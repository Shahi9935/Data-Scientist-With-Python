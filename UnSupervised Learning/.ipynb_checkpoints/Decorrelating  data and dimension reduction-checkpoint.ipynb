{
 "cells": [
  {
   "cell_type": "code",
   "execution_count": 3,
   "metadata": {
    "collapsed": true
   },
   "outputs": [],
   "source": [
    "grains=[[ 3.312,  5.763],\n",
    "       [ 3.333,  5.554],\n",
    "       [ 3.337,  5.291],\n",
    "       [ 3.379,  5.324],\n",
    "       [ 3.562,  5.658],\n",
    "       [ 3.312,  5.386],\n",
    "       [ 3.259,  5.563],\n",
    "       [ 3.302,  5.42 ],\n",
    "       [ 3.465,  6.053],\n",
    "       [ 3.505,  5.884],\n",
    "       [ 3.242,  5.714],\n",
    "       [ 3.201,  5.438],\n",
    "       [ 3.199,  5.439],\n",
    "       [ 3.156,  5.479],\n",
    "       [ 3.114,  5.482],\n",
    "       [ 3.333,  5.351],\n",
    "       [ 3.383,  5.119],\n",
    "       [ 3.514,  5.527],\n",
    "       [ 3.466,  5.205],\n",
    "       [ 3.049,  5.226],\n",
    "       [ 3.129,  5.658],\n",
    "       [ 3.168,  5.52 ],\n",
    "       [ 3.507,  5.618],\n",
    "       [ 2.936,  5.099],\n",
    "       [ 3.245,  5.789],\n",
    "       [ 3.421,  5.833],\n",
    "       [ 3.026,  5.395],\n",
    "       [ 2.956,  5.395],\n",
    "       [ 3.221,  5.541],\n",
    "       [ 3.065,  5.516],\n",
    "       [ 2.975,  5.454],\n",
    "       [ 3.371,  5.757],\n",
    "       [ 3.186,  5.717],\n",
    "       [ 3.15 ,  5.585],\n",
    "       [ 3.328,  5.712],\n",
    "       [ 3.485,  5.709],\n",
    "       [ 3.464,  5.826],\n",
    "       [ 3.683,  5.832],\n",
    "       [ 3.288,  5.656],\n",
    "       [ 3.298,  5.397],\n",
    "       [ 3.156,  5.348],\n",
    "       [ 3.158,  5.351],\n",
    "       [ 3.201,  5.138],\n",
    "       [ 3.396,  5.877],\n",
    "       [ 3.462,  5.579],\n",
    "       [ 3.155,  5.376],\n",
    "       [ 3.393,  5.701],\n",
    "       [ 3.377,  5.57 ],\n",
    "       [ 3.291,  5.545],\n",
    "       [ 3.258,  5.678],\n",
    "       [ 3.272,  5.585],\n",
    "       [ 3.434,  5.674],\n",
    "       [ 3.113,  5.715],\n",
    "       [ 3.199,  5.504],\n",
    "       [ 3.113,  5.741],\n",
    "       [ 3.212,  5.702],\n",
    "       [ 3.377,  5.388],\n",
    "       [ 3.412,  5.384],\n",
    "       [ 3.419,  5.662],\n",
    "       [ 3.032,  5.159],\n",
    "       [ 2.85 ,  5.008],\n",
    "       [ 2.879,  4.902],\n",
    "       [ 3.042,  5.076],\n",
    "       [ 3.07 ,  5.395],\n",
    "       [ 3.026,  5.262],\n",
    "       [ 3.119,  5.139],\n",
    "       [ 3.19 ,  5.63 ],\n",
    "       [ 3.158,  5.609],\n",
    "       [ 3.153,  5.569],\n",
    "       [ 2.882,  5.412],\n",
    "       [ 3.561,  6.191],\n",
    "       [ 3.484,  5.998],\n",
    "       [ 3.594,  5.978],\n",
    "       [ 3.93 ,  6.154],\n",
    "       [ 3.486,  6.017],\n",
    "       [ 3.438,  5.927],\n",
    "       [ 3.403,  6.064],\n",
    "       [ 3.814,  6.579],\n",
    "       [ 3.639,  6.445],\n",
    "       [ 3.566,  5.85 ],\n",
    "       [ 3.467,  5.875],\n",
    "       [ 3.857,  6.006],\n",
    "       [ 3.864,  6.285],\n",
    "       [ 3.772,  6.384],\n",
    "       [ 3.801,  6.366],\n",
    "       [ 3.651,  6.173],\n",
    "       [ 3.764,  6.084],\n",
    "       [ 3.67 ,  6.549],\n",
    "       [ 4.033,  6.573],\n",
    "       [ 4.032,  6.45 ],\n",
    "       [ 3.785,  6.581],\n",
    "       [ 3.796,  6.172],\n",
    "       [ 3.693,  6.272],\n",
    "       [ 3.86 ,  6.037],\n",
    "       [ 3.485,  6.666],\n",
    "       [ 3.463,  6.139],\n",
    "       [ 3.81 ,  6.341],\n",
    "       [ 3.552,  6.449],\n",
    "       [ 3.512,  6.271],\n",
    "       [ 3.684,  6.219],\n",
    "       [ 3.525,  5.718],\n",
    "       [ 3.694,  5.89 ],\n",
    "       [ 3.892,  6.113],\n",
    "       [ 3.681,  6.369],\n",
    "       [ 3.755,  6.248],\n",
    "       [ 3.786,  6.037],\n",
    "       [ 3.806,  6.152],\n",
    "       [ 3.573,  6.033],\n",
    "       [ 3.763,  6.675],\n",
    "       [ 3.674,  6.153],\n",
    "       [ 3.769,  6.107],\n",
    "       [ 3.791,  6.303],\n",
    "       [ 3.902,  6.183],\n",
    "       [ 3.737,  6.259],\n",
    "       [ 3.991,  6.563],\n",
    "       [ 3.719,  6.416],\n",
    "       [ 3.897,  6.051],\n",
    "       [ 3.815,  6.245],\n",
    "       [ 3.769,  6.227],\n",
    "       [ 3.857,  6.493],\n",
    "       [ 3.962,  6.315],\n",
    "       [ 3.563,  6.059],\n",
    "       [ 3.387,  5.762],\n",
    "       [ 3.771,  5.98 ],\n",
    "       [ 3.582,  5.363],\n",
    "       [ 3.869,  6.111],\n",
    "       [ 3.594,  6.285],\n",
    "       [ 3.687,  5.979],\n",
    "       [ 3.773,  6.513],\n",
    "       [ 3.69 ,  5.791],\n",
    "       [ 3.755,  5.979],\n",
    "       [ 3.825,  6.144],\n",
    "       [ 3.268,  5.884],\n",
    "       [ 3.395,  5.845],\n",
    "       [ 3.408,  5.776],\n",
    "       [ 3.465,  5.477],\n",
    "       [ 3.574,  6.145],\n",
    "       [ 3.231,  5.92 ],\n",
    "       [ 3.286,  5.832],\n",
    "       [ 3.472,  5.872],\n",
    "       [ 2.994,  5.472],\n",
    "       [ 3.073,  5.541],\n",
    "       [ 3.074,  5.389],\n",
    "       [ 2.967,  5.224],\n",
    "       [ 2.777,  5.314],\n",
    "       [ 2.687,  5.279],\n",
    "       [ 2.719,  5.176],\n",
    "       [ 2.967,  5.267],\n",
    "       [ 2.911,  5.386],\n",
    "       [ 2.648,  5.317],\n",
    "       [ 2.84 ,  5.263],\n",
    "       [ 2.776,  5.405],\n",
    "       [ 2.833,  5.408],\n",
    "       [ 2.693,  5.22 ],\n",
    "       [ 2.755,  5.175],\n",
    "       [ 2.675,  5.25 ],\n",
    "       [ 2.849,  5.053],\n",
    "       [ 2.745,  5.394],\n",
    "       [ 2.678,  5.444],\n",
    "       [ 2.695,  5.304],\n",
    "       [ 2.879,  5.451],\n",
    "       [ 2.81 ,  5.35 ],\n",
    "       [ 2.847,  5.267],\n",
    "       [ 2.968,  5.333],\n",
    "       [ 2.794,  5.011],\n",
    "       [ 2.941,  5.105],\n",
    "       [ 2.897,  5.319],\n",
    "       [ 2.837,  5.417],\n",
    "       [ 2.668,  5.176],\n",
    "       [ 2.715,  5.09 ],\n",
    "       [ 2.701,  5.325],\n",
    "       [ 2.845,  5.167],\n",
    "       [ 2.763,  5.088],\n",
    "       [ 2.763,  5.136],\n",
    "       [ 2.641,  5.278],\n",
    "       [ 2.821,  4.981],\n",
    "       [ 2.71 ,  5.186],\n",
    "       [ 2.642,  5.145],\n",
    "       [ 2.758,  5.18 ],\n",
    "       [ 2.893,  5.357],\n",
    "       [ 2.775,  5.09 ],\n",
    "       [ 3.017,  5.236],\n",
    "       [ 2.909,  5.24 ],\n",
    "       [ 2.85 ,  5.108],\n",
    "       [ 3.026,  5.495],\n",
    "       [ 2.683,  5.363],\n",
    "       [ 2.716,  5.413],\n",
    "       [ 2.675,  5.088],\n",
    "       [ 2.821,  5.089],\n",
    "       [ 2.787,  4.899],\n",
    "       [ 2.717,  5.046],\n",
    "       [ 2.804,  5.091],\n",
    "       [ 2.953,  5.132],\n",
    "       [ 2.63 ,  5.18 ],\n",
    "       [ 2.975,  5.236],\n",
    "       [ 3.126,  5.16 ],\n",
    "       [ 3.054,  5.224],\n",
    "       [ 3.128,  5.32 ],\n",
    "       [ 2.911,  5.41 ],\n",
    "       [ 3.155,  5.073],\n",
    "       [ 2.989,  5.219],\n",
    "       [ 3.135,  4.984],\n",
    "       [ 2.81 ,  5.009],\n",
    "       [ 3.091,  5.183],\n",
    "       [ 2.96 ,  5.204],\n",
    "       [ 2.981,  5.137],\n",
    "       [ 2.795,  5.14 ],\n",
    "       [ 3.232,  5.236],\n",
    "       [ 2.836,  5.175],\n",
    "       [ 2.974,  5.243]]\n",
    "import numpy as np\n",
    "grains=np.array(grains)"
   ]
  },
  {
   "cell_type": "code",
   "execution_count": 4,
   "metadata": {},
   "outputs": [
    {
     "data": {
      "image/png": "[encoded data removed]",
      "text/plain": [
       "<matplotlib.figure.Figure at 0x27a13653e80>"
      ]
     },
     "metadata": {},
     "output_type": "display_data"
    },
    {
     "name": "stdout",
     "output_type": "stream",
     "text": [
      "0.860414937714\n"
     ]
    }
   ],
   "source": [
    "# Perform the necessary imports\n",
    "import matplotlib.pyplot as plt\n",
    "from scipy.stats import pearsonr\n",
    "\n",
    "# Assign the 0th column of grains: width\n",
    "width =grains[:,0]\n",
    "\n",
    "# Assign the 1st column of grains: length\n",
    "length = grains[:,1]\n",
    "\n",
    "# Scatter plot width vs length\n",
    "plt.scatter(width,length)\n",
    "plt.axis('equal')\n",
    "plt.show()\n",
    "\n",
    "# Calculate the Pearson correlation\n",
    "correlation, pvalue =pearsonr(width,length)\n",
    "\n",
    "# Display the correlation\n",
    "print(correlation)\n"
   ]
  },
  {
   "cell_type": "markdown",
   "metadata": {},
   "source": [
    "We can see ,the width and length of the grain samples are highly correlated."
   ]
  },
  {
   "cell_type": "markdown",
   "metadata": {},
   "source": [
    "## Decorrelating with PCA"
   ]
  },
  {
   "cell_type": "code",
   "execution_count": 6,
   "metadata": {},
   "outputs": [
    {
     "data": {
      "image/png": "[encoded data removed]",
      "text/plain": [
       "<matplotlib.figure.Figure at 0x27a13b2d6d8>"
      ]
     },
     "metadata": {},
     "output_type": "display_data"
    },
    {
     "name": "stdout",
     "output_type": "stream",
     "text": [
      "7.47465689945e-17\n"
     ]
    }
   ],
   "source": [
    "# Import PCA\n",
    "from sklearn.decomposition import PCA\n",
    "\n",
    "# Create PCA instance: model\n",
    "model =PCA()\n",
    "\n",
    "# Apply the fit_transform method of model to grains: pca_features\n",
    "pca_features =model.fit_transform(grains)\n",
    "\n",
    "# Assign 0th column of pca_features: xs\n",
    "xs = pca_features[:,0]\n",
    "\n",
    "# Assign 1st column of pca_features: ys\n",
    "ys = pca_features[:,1]\n",
    "\n",
    "# Scatter plot xs vs ys\n",
    "plt.scatter(xs, ys)\n",
    "plt.axis('equal')\n",
    "plt.show()\n",
    "\n",
    "# Calculate the Pearson correlation of xs and ys\n",
    "correlation, pvalue = pearsonr(xs, ys)\n",
    "\n",
    "# Display the correlation\n",
    "print(correlation)"
   ]
  },
  {
   "cell_type": "markdown",
   "metadata": {},
   "source": [
    "The first principal component of the data is the direction in which the data varies the most. Here we will use PCA to find the first principal component of the length and width measurements of the grain samples, and represent it as an arrow on the scatter plot."
   ]
  },
  {
   "cell_type": "code",
   "execution_count": 10,
   "metadata": {},
   "outputs": [
    {
     "name": "stdout",
     "output_type": "stream",
     "text": [
      "[ 3.25860476  5.62853333]\n",
      "\n",
      "\n",
      "[[ 0.63910027  0.76912343]\n",
      " [-0.76912343  0.63910027]]\n"
     ]
    },
    {
     "data": {
      "image/png": "[encoded data removed]",
      "text/plain": [
       "<matplotlib.figure.Figure at 0x27a141945c0>"
      ]
     },
     "metadata": {},
     "output_type": "display_data"
    }
   ],
   "source": [
    "# Make a scatter plot of the untransformed points\n",
    "plt.scatter(grains[:,0], grains[:,1])\n",
    "\n",
    "# Create a PCA instance: model\n",
    "model =PCA()\n",
    "\n",
    "# Fit model to points\n",
    "model.fit(grains)\n",
    "\n",
    "# Get the mean of the grain samples: mean\n",
    "mean = model.mean_\n",
    "print(mean)\n",
    "print(\"\\n\")\n",
    "# Get the first principal component: first_pc\n",
    "first_pc = model.components_[0,:]\n",
    "print(model.components_)\n",
    "# Plot first_pc as an arrow, starting at mean\n",
    "plt.arrow(mean[0],mean[1], first_pc[0], first_pc[1], color='red', width=0.05)\n",
    "\n",
    "# Keep axes on same scale\n",
    "plt.axis('equal')\n",
    "plt.show()"
   ]
  },
  {
   "cell_type": "code",
   "execution_count": 15,
   "metadata": {},
   "outputs": [
    {
     "name": "stdout",
     "output_type": "stream",
     "text": [
      "6\n",
      "\n",
      "\n",
      "\n",
      "range(0, 6)\n"
     ]
    },
    {
     "data": {
      "image/png": "[encoded data removed]",
      "text/plain": [
       "<matplotlib.figure.Figure at 0x27a15300b70>"
      ]
     },
     "metadata": {},
     "output_type": "display_data"
    }
   ],
   "source": [
    "data=np.genfromtxt('fish.csv',delimiter=',')\n",
    "samples=data[:,1:]\n",
    "# Perform the necessary imports\n",
    "from sklearn.decomposition import PCA\n",
    "from sklearn.preprocessing import StandardScaler\n",
    "from sklearn.pipeline import make_pipeline\n",
    "import matplotlib.pyplot as plt\n",
    "\n",
    "# Create scaler: scaler\n",
    "scaler =StandardScaler()\n",
    "\n",
    "# Create a PCA instance: pca\n",
    "pca =PCA()\n",
    "\n",
    "# Create pipeline: pipeline\n",
    "pipeline =make_pipeline(scaler,pca)\n",
    "\n",
    "# Fit the pipeline to 'samples'\n",
    "pipeline.fit(samples)\n",
    "print(pca.n_components_)\n",
    "print(\"\\n\\n\")\n",
    "# Plot the explained variances\n",
    "features = range(pca.n_components_)\n",
    "print(features)\n",
    "plt.bar(features,pca.explained_variance_)\n",
    "plt.xlabel('PCA feature')\n",
    "plt.ylabel('variance')\n",
    "plt.xticks(features)\n",
    "plt.show()\n"
   ]
  },
  {
   "cell_type": "markdown",
   "metadata": {},
   "source": [
    "It looks like PCA features 0 and 1 have significant variance.\n",
    "\n",
    "Since PCA features 0 and 1 have significant variance, the intrinsic dimension of this dataset appears to be 2."
   ]
  },
  {
   "cell_type": "code",
   "execution_count": 16,
   "metadata": {},
   "outputs": [
    {
     "name": "stdout",
     "output_type": "stream",
     "text": [
      "(85, 2)\n"
     ]
    }
   ],
   "source": [
    "# Import PCA\n",
    "from sklearn.decomposition import PCA\n",
    "\n",
    "# Create a PCA model with 2 components: pca\n",
    "pca =PCA(n_components=2)\n",
    "\n",
    "# Fit the PCA instance to the scaled samples\n",
    "pca.fit(samples)\n",
    "\n",
    "# Transform the scaled samples: pca_features\n",
    "pca_features = pca.transform(samples)\n",
    "\n",
    "# Print the shape of pca_features\n",
    "print(pca_features.shape)\n"
   ]
  },
  {
   "cell_type": "markdown",
   "metadata": {},
   "source": [
    "## A tf-idf word-frequency array"
   ]
  },
  {
   "cell_type": "markdown",
   "metadata": {},
   "source": [
    "We'll create a tf-idf word frequency array for a toy collection of documents. For this, we will use the TfidfVectorizer from sklearn. It transforms a list of documents into a word frequency array, which it outputs as a csr_matrix. It has fit() and transform() methods like other sklearn objects."
   ]
  },
  {
   "cell_type": "code",
   "execution_count": 11,
   "metadata": {},
   "outputs": [
    {
     "name": "stdout",
     "output_type": "stream",
     "text": [
      "  (0, 0)\t0.517856116168\n",
      "  (0, 4)\t0.517856116168\n",
      "  (0, 3)\t0.680918560399\n",
      "  (1, 4)\t0.517856116168\n",
      "  (1, 2)\t0.517856116168\n",
      "  (1, 5)\t0.680918560399\n",
      "  (2, 0)\t0.517856116168\n",
      "  (2, 2)\t0.517856116168\n",
      "  (2, 1)\t0.680918560399\n",
      "\n",
      "\n",
      "\n",
      "[[ 0.51785612  0.          0.          0.68091856  0.51785612  0.        ]\n",
      " [ 0.          0.          0.51785612  0.          0.51785612  0.68091856]\n",
      " [ 0.51785612  0.68091856  0.51785612  0.          0.          0.        ]]\n",
      "\n",
      "\n",
      "['cats', 'chase', 'dogs', 'meow', 'say', 'woof']\n"
     ]
    }
   ],
   "source": [
    "documents=['cats say meow', 'dogs say woof', 'dogs chase cats']\n",
    "# Import TfidfVectorizer\n",
    "from sklearn.feature_extraction.text import TfidfVectorizer\n",
    "\n",
    "# Create a TfidfVectorizer: tfidf\n",
    "tfidf =TfidfVectorizer()\n",
    "\n",
    "# Apply fit_transform to document: csr_mat\n",
    "csr_mat =tfidf.fit_transform(documents)\n",
    "print(csr_mat)\n",
    "# Print result of toarray() method\n",
    "print(\"\\n\\n\")\n",
    "print(csr_mat.toarray())\n",
    "\n",
    "# Get the words: words\n",
    "words =tfidf.get_feature_names()\n",
    "print(\"\\n\")\n",
    "# Print words\n",
    "print(words)\n"
   ]
  },
  {
   "cell_type": "markdown",
   "metadata": {},
   "source": [
    "# Clustering WikiPedia"
   ]
  },
  {
   "cell_type": "markdown",
   "metadata": {},
   "source": [
    "TruncatedSVD is able to perform PCA on sparse arrays in csr_matrix format, such as word-frequency arrays. Now we will combine our knowledge of TruncatedSVD and k-means to cluster some popular pages from Wikipedia. We'll build a pipeline and  apply it to the word-frequency array of some Wikipedia articles.\n"
   ]
  },
  {
   "cell_type": "code",
   "execution_count": 6,
   "metadata": {},
   "outputs": [
    {
     "name": "stdout",
     "output_type": "stream",
     "text": [
      "60\n"
     ]
    }
   ],
   "source": [
    "import pandas as pd\n",
    "data=pd.read_csv('wikipedia-vectors.csv')\n",
    "# Perform the necessary imports\n",
    "from sklearn.decomposition import TruncatedSVD\n",
    "from sklearn.cluster import KMeans\n",
    "from sklearn.pipeline import make_pipeline\n",
    "\n",
    "# Create a TruncatedSVD instance: svd\n",
    "svd = TruncatedSVD(n_components=50)\n",
    "\n",
    "# Create a KMeans instance: kmeans\n",
    "kmeans =KMeans(n_clusters=6)\n",
    "\n",
    "# Create a pipeline: pipeline\n",
    "pipeline = make_pipeline(svd,kmeans)\n",
    "titles=['HTTP 404',\n",
    " 'Alexa Internet',\n",
    " 'Internet Explorer',\n",
    " 'HTTP cookie',\n",
    " 'Google Search',\n",
    " 'Tumblr',\n",
    " 'Hypertext Transfer Protocol',\n",
    " 'Social search',\n",
    " 'Firefox',\n",
    " 'LinkedIn',\n",
    " 'Global warming',\n",
    " 'Nationally Appropriate Mitigation Action',\n",
    " 'Nigel Lawson',\n",
    " 'Connie Hedegaard',\n",
    " 'Climate change',\n",
    " 'Kyoto Protocol',\n",
    " '350.org',\n",
    " 'Greenhouse gas emissions by the United States',\n",
    " '2010 United Nations Climate Change Conference',\n",
    " '2007 United Nations Climate Change Conference',\n",
    " 'Angelina Jolie',\n",
    " 'Michael Fassbender',\n",
    " 'Denzel Washington',\n",
    " 'Catherine Zeta-Jones',\n",
    " 'Jessica Biel',\n",
    " 'Russell Crowe',\n",
    " 'Mila Kunis',\n",
    " 'Dakota Fanning',\n",
    " 'Anne Hathaway',\n",
    " 'Jennifer Aniston',\n",
    " 'France national football team',\n",
    " 'Cristiano Ronaldo',\n",
    " 'Arsenal F.C.',\n",
    " 'Radamel Falcao',\n",
    " 'Zlatan Ibrahimović',\n",
    " 'Colombia national football team',\n",
    " '2014 FIFA World Cup qualification',\n",
    " 'Football',\n",
    " 'Neymar',\n",
    " 'Franck Ribéry',\n",
    " 'Tonsillitis',\n",
    " 'Hepatitis B',\n",
    " 'Doxycycline',\n",
    " 'Leukemia',\n",
    " 'Gout',\n",
    " 'Hepatitis C',\n",
    " 'Prednisone',\n",
    " 'Fever',\n",
    " 'Gabapentin',\n",
    " 'Lymphoma',\n",
    " 'Chad Kroeger',\n",
    " 'Nate Ruess',\n",
    " 'The Wanted',\n",
    " 'Stevie Nicks',\n",
    " 'Arctic Monkeys',\n",
    " 'Black Sabbath',\n",
    " 'Skrillex',\n",
    " 'Red Hot Chili Peppers',\n",
    " 'Sepsis',\n",
    " 'Adam Levine']\n",
    "print(len(titles))"
   ]
  },
  {
   "cell_type": "code",
   "execution_count": 5,
   "metadata": {},
   "outputs": [
    {
     "name": "stdout",
     "output_type": "stream",
     "text": [
      "                                          article  label\n",
      "59                                    Adam Levine      0\n",
      "57                          Red Hot Chili Peppers      0\n",
      "56                                       Skrillex      0\n",
      "55                                  Black Sabbath      0\n",
      "54                                 Arctic Monkeys      0\n",
      "53                                   Stevie Nicks      0\n",
      "52                                     The Wanted      0\n",
      "51                                     Nate Ruess      0\n",
      "50                                   Chad Kroeger      0\n",
      "58                                         Sepsis      0\n",
      "40                                    Tonsillitis      1\n",
      "41                                    Hepatitis B      1\n",
      "42                                    Doxycycline      1\n",
      "43                                       Leukemia      1\n",
      "47                                          Fever      1\n",
      "45                                    Hepatitis C      1\n",
      "46                                     Prednisone      1\n",
      "48                                     Gabapentin      1\n",
      "49                                       Lymphoma      1\n",
      "44                                           Gout      1\n",
      "26                                     Mila Kunis      2\n",
      "28                                  Anne Hathaway      2\n",
      "27                                 Dakota Fanning      2\n",
      "25                                  Russell Crowe      2\n",
      "29                               Jennifer Aniston      2\n",
      "23                           Catherine Zeta-Jones      2\n",
      "22                              Denzel Washington      2\n",
      "21                             Michael Fassbender      2\n",
      "20                                 Angelina Jolie      2\n",
      "24                                   Jessica Biel      2\n",
      "39                                  Franck Ribéry      3\n",
      "38                                         Neymar      3\n",
      "37                                       Football      3\n",
      "35                Colombia national football team      3\n",
      "36              2014 FIFA World Cup qualification      3\n",
      "33                                 Radamel Falcao      3\n",
      "32                                   Arsenal F.C.      3\n",
      "31                              Cristiano Ronaldo      3\n",
      "30                  France national football team      3\n",
      "34                             Zlatan Ibrahimović      3\n",
      "8                                         Firefox      4\n",
      "2                               Internet Explorer      4\n",
      "3                                     HTTP cookie      4\n",
      "1                                  Alexa Internet      4\n",
      "4                                   Google Search      4\n",
      "5                                          Tumblr      4\n",
      "6                     Hypertext Transfer Protocol      4\n",
      "7                                   Social search      4\n",
      "9                                        LinkedIn      4\n",
      "0                                        HTTP 404      4\n",
      "11       Nationally Appropriate Mitigation Action      5\n",
      "12                                   Nigel Lawson      5\n",
      "13                               Connie Hedegaard      5\n",
      "14                                 Climate change      5\n",
      "15                                 Kyoto Protocol      5\n",
      "17  Greenhouse gas emissions by the United States      5\n",
      "18  2010 United Nations Climate Change Conference      5\n",
      "19  2007 United Nations Climate Change Conference      5\n",
      "10                                 Global warming      5\n",
      "16                                        350.org      5\n"
     ]
    }
   ],
   "source": [
    "# Import pandas\n",
    "import numpy as np\n",
    "import pandas as pd\n",
    "from scipy.sparse import csr_matrix\n",
    "samples=pd.read_csv('wikipedia-vectors.csv')\n",
    "data=np.array(samples.iloc[1:,1:])\n",
    "articles = csr_matrix(data)\n",
    "articles=csr_matrix.transpose(articles)\n",
    "# Fit the pipeline to articles\n",
    "pipeline.fit(articles)\n",
    "# Calculate the cluster labels: labels\n",
    "labels =pipeline.predict(articles)\n",
    "#print(len(labels))\n",
    "#print(len(titles))\n",
    "# Create a DataFrame aligning labels and titles: df\n",
    "df = pd.DataFrame({'label': labels, 'article': titles})\n",
    "\n",
    "# Display df sorted by cluster label\n",
    "print(df.sort_values('label'))\n",
    "\n"
   ]
  },
  {
   "cell_type": "code",
   "execution_count": null,
   "metadata": {
    "collapsed": true
   },
   "outputs": [],
   "source": []
  }
 ],
 "metadata": {
  "kernelspec": {
   "display_name": "Python 3",
   "language": "python",
   "name": "python3"
  },
  "language_info": {
   "codemirror_mode": {
    "name": "ipython",
    "version": 3
   },
   "file_extension": ".py",
   "mimetype": "text/x-python",
   "name": "python",
   "nbconvert_exporter": "python",
   "pygments_lexer": "ipython3",
   "version": "3.6.1"
  }
 },
 "nbformat": 4,
 "nbformat_minor": 2
}

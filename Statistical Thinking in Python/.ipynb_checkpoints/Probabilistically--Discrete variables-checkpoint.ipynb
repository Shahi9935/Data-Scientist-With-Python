{
 "cells": [
  {
   "cell_type": "markdown",
   "metadata": {
    "collapsed": true
   },
   "source": [
    "Statistical inference involves taking your data to probabilistic conclusions about what you would expect if you took even more data, and you can make decisions based on these conclusions."
   ]
  },
  {
   "cell_type": "code",
   "execution_count": 2,
   "metadata": {},
   "outputs": [
    {
     "data": {
      "image/png": "[encoded data removed]",
      "text/plain": [
       "<matplotlib.figure.Figure at 0x1c5f889b470>"
      ]
     },
     "metadata": {},
     "output_type": "display_data"
    }
   ],
   "source": [
    "# Seed the random number generator\n",
    "import numpy as np\n",
    "import matplotlib.pyplot as plt\n",
    "np.random.seed(42)\n",
    "# Initialize random numbers: random_numbers\n",
    "random_numbers =np.empty(100000)\n",
    "\n",
    "# Generate random numbers by looping over range(100000)\n",
    "for i in range(100000):\n",
    "    random_numbers[i] =np.random.random()\n",
    "\n",
    "# Plot a histogram\n",
    "_ = plt.hist(random_numbers)\n",
    "\n",
    "# Show the plot\n",
    "plt.show()\n"
   ]
  },
  {
   "cell_type": "markdown",
   "metadata": {},
   "source": [
    "The histogram is almost exactly flat across the top, indicating that there is equal chance that a randomly-generated number is in any of the bins of the histogram."
   ]
  },
  {
   "cell_type": "markdown",
   "metadata": {},
   "source": [
    "# Bernoulli trials"
   ]
  },
  {
   "cell_type": "markdown",
   "metadata": {},
   "source": [
    "Bernoulli trial can be thought of as a flip of a possibly biased coin. Specifically, each coin flip has a probability p of landing heads (success) and probability 1−p of landing tails (failure)."
   ]
  },
  {
   "cell_type": "code",
   "execution_count": 3,
   "metadata": {
    "collapsed": true
   },
   "outputs": [],
   "source": [
    "def perform_bernoulli_trials(n, p):\n",
    "    \"\"\"Perform n Bernoulli trials with success probability p\n",
    "    and return number of successes.\"\"\"\n",
    "    # Initialize number of successes: n_success\n",
    "    n_success =0\n",
    "\n",
    "\n",
    "    # Perform trials\n",
    "    for i in range(n):\n",
    "        # Choose random number between zero and one: random_number\n",
    "        random_number=np.random.random()\n",
    "\n",
    "        # If less than p, it's a success so add one to n_success\n",
    "        if random_number<p:\n",
    "            n_success+=1\n",
    "\n",
    "    return n_success\n"
   ]
  },
  {
   "cell_type": "markdown",
   "metadata": {},
   "source": [
    "Let's say a bank made 100 mortgage loans. It is possible that anywhere between 0 and 100 of the loans will be defaulted upon. We would like to know the probability of getting a given number of defaults, given that the probability of a default is p = 0.05. To investigate this, we will do a simulation. We will perform 100 Bernoulli trials using the perform_bernoulli_trials() function we wrote in the previous exercise and record how many defaults we get. Here, a success is a default. (Remember that the word \"success\" just means that the Bernoulli trial evaluates to True, i.e., did the loan recipient default?) We will do this for another 100 Bernoulli trials. And again and again until we have tried it 1000 times. Then, we will plot a histogram describing the probability of the number of defaults."
   ]
  },
  {
   "cell_type": "code",
   "execution_count": 4,
   "metadata": {},
   "outputs": [
    {
     "data": {
      "image/png": "[encoded data removed]",
      "text/plain": [
       "<matplotlib.figure.Figure at 0x1c5fabdda20>"
      ]
     },
     "metadata": {},
     "output_type": "display_data"
    }
   ],
   "source": [
    "# Seed random number generator\n",
    "np.random.seed(42)\n",
    "\n",
    "# Initialize the number of defaults: n_defaults\n",
    "n_defaults=np.empty(1000)\n",
    "\n",
    "# Compute the number of defaults\n",
    "for i in range(1000):\n",
    "    n_defaults[i] =perform_bernoulli_trials(100,0.05)\n",
    "\n",
    "\n",
    "# Plot the histogram with default number of bins; label your axes\n",
    "_ = plt.hist(n_defaults,normed=True)\n",
    "_ = plt.xlabel('number of defaults out of 100 loans')\n",
    "_ = plt.ylabel('probability')\n",
    "\n",
    "# Show the plot\n",
    "plt.show()\n"
   ]
  },
  {
   "cell_type": "code",
   "execution_count": 1,
   "metadata": {
    "collapsed": true
   },
   "outputs": [],
   "source": [
    "def ecdf(data):\n",
    "    \"\"\"Compute ECDF for a one-dimensional array of measurements.\"\"\"\n",
    "\n",
    "    # Number of data points: n\n",
    "    n=len(data)\n",
    "\n",
    "    # x-data for the ECDF: x\n",
    "    x=np.sort(data)\n",
    "\n",
    "    # y-data for the ECDF: y\n",
    "    y= np.arange(1,n+1) / n\n",
    "\n",
    "    return x, y\n"
   ]
  },
  {
   "cell_type": "code",
   "execution_count": 6,
   "metadata": {},
   "outputs": [
    {
     "name": "stdout",
     "output_type": "stream",
     "text": [
      "[  6.   5.   7.   8.   5.   5.   3.   2.   7.   6.   7.   3.   8.   3.   8.\n",
      "   5.   2.   6.   4.   5.   3.   2.   9.   5.   5.   3.   8.   7.   7.   5.\n",
      "   4.   3.   4.   5.   6.   1.   8.   4.   2.   9.   6.   5.   2.   6.   3.\n",
      "   6.   2.   6.   4.   4.   6.   4.   5.   4.   3.   4.   6.   3.   4.   8.\n",
      "   2.   4.   1.   6.   6.   6.   2.   2.   3.   8.   7.   2.   6.   6.   3.\n",
      "   6.   3.  10.   7.   6.   4.   5.   8.   4.   6.   4.   6.   1.  10.   4.\n",
      "   4.   4.   5.   4.   5.   2.   8.   7.   3.   7.   9.   6.   8.   2.   5.\n",
      "   4.   3.   6.   2.   6.   9.   5.   6.   6.   4.   4.   7.   6.   6.   7.\n",
      "   1.   5.   4.   1.   4.   6.   3.   2.   3.   8.   8.   6.   7.   6.   4.\n",
      "   4.   7.   2.   4.   7.   5.   4.   6.   6.   8.   4.   2.   5.   6.   3.\n",
      "   7.   6.   5.  10.   4.   4.   5.   7.   7.   6.   6.   4.   6.   9.   4.\n",
      "   4.   7.   4.   8.   5.   4.   3.   3.   6.   6.   1.   5.   7.   3.   7.\n",
      "   3.   4.   4.   3.   2.   2.   0.   7.   3.   7.   7.   3.   8.   6.   4.\n",
      "   3.   4.   4.   5.   2.   4.   4.   3.   7.   3.   6.   4.   2.   6.   6.\n",
      "   6.   7.   6.   4.   6.   6.   7.   8.   7.   3.   3.   3.   4.   7.   6.\n",
      "   5.   3.   6.   4.   2.   3.   2.   4.   6.   3.   4.   5.   1.   3.   6.\n",
      "   3.   6.   1.   6.   6.   7.   4.   7.   7.   4.   2.   8.   6.   3.   7.\n",
      "   3.   4.   4.   5.   1.   7.   1.   5.   3.   4.   8.   9.   3.   9.   8.\n",
      "   4.   0.  11.   7.   6.   7.   6.   7.   4.   5.   4.   5.   3.   6.   3.\n",
      "   3.   2.   5.   4.   6.   4.   3.  14.   5.   8.   1.   1.   4.   4.   4.\n",
      "   6.   4.   5.   3.   5.   6.   4.   5.   6.   3.   3.   8.   4.   1.   8.\n",
      "   5.   7.   5.   3.   2.   8.   4.   5.   4.   5.   8.   4.   2.   4.   3.\n",
      "   2.   9.   5.   6.   6.   3.   5.   8.   6.   4.   5.   1.   5.   8.   6.\n",
      "   5.   5.  10.   1.   0.   2.   3.   6.  10.   1.   6.   7.   5.   6.  13.\n",
      "   6.   4.   3.   3.   6.   3.   6.   3.   8.   4.   4.   6.   3.   5.   5.\n",
      "   1.   5.   7.   8.   9.   5.   7.   7.   6.   5.   7.   6.   2.   6.   4.\n",
      "   5.   6.   6.   2.  15.   8.   3.   5.   5.   6.   4.   4.   4.   2.   6.\n",
      "   7.   5.   3.   6.   7.   4.   2.   4.   7.   4.   5.   3.   8.   5.   3.\n",
      "   2.   8.   2.   4.   6.   3.   5.   1.   2.   5.   5.   4.   5.   5.   4.\n",
      "   7.   7.   4.   7.   6.   5.   6.   8.   5.   5.   4.   4.   1.   4.   3.\n",
      "   2.   4.   2.   6.   4.   6.   1.   6.   5.   5.   8.   7.   6.   3.   7.\n",
      "   6.   9.   5.   6.   1.   6.   6.   5.   6.   6.   5.   6.   2.   7.   4.\n",
      "   3.  13.   6.   7.   3.   4.   2.   8.   6.   5.   6.   4.   3.   7.   6.\n",
      "   4.   6.   6.   6.   6.   3.   7.   3.   7.   6.   2.   4.   4.   8.   6.\n",
      "   8.   4.   4.   5.   6.   7.   2.   8.   1.   6.   3.   9.   7.   1.   2.\n",
      "   7.   5.   4.   5.  11.   4.   3.   4.   7.   5.   7.   9.   4.   7.   7.\n",
      "   4.   7.   8.   4.   2.   7.   5.   3.  10.   3.   4.   4.   2.   2.   7.\n",
      "   3.   6.   7.   6.   6.   2.   2.   5.   7.   7.   6.   5.   3.  10.   6.\n",
      "   4.   4.   4.   4.   2.   6.   5.   7.   4.   5.   3.   8.   4.   2.  15.\n",
      "   3.   7.   9.   6.   3.   3.   3.   2.   3.   8.   8.   3.   8.   7.   3.\n",
      "   2.   8.   3.   5.   7.   1.   6.   5.   2.   4.   5.   2.   4.   4.   2.\n",
      "   5.   0.   6.   8.   5.   6.   3.   6.   5.   7.   3.   3.   4.   5.   7.\n",
      "   1.   6.   5.   7.   6.   6.   7.   2.   6.   3.   6.   4.   5.   5.   5.\n",
      "   7.   8.   3.   5.   4.   3.   8.   7.   3.   6.   4.   7.   4.   5.   4.\n",
      "   6.   1.   2.   2.   6.   3.   4.   7.   1.   7.   5.   6.   3.   7.   2.\n",
      "  10.   5.   3.   9.   7.   8.   2.   4.   5.   6.   5.   6.   5.   3.   4.\n",
      "   6.   8.  10.   7.   2.   3.   4.   5.   2.   5.   6.   6.  11.   4.   8.\n",
      "   4.   2.   4.   7.   3.   5.   1.   6.   4.   2.   5.   3.   3.   3.   3.\n",
      "   4.   3.   6.   6.   7.   6.   5.   6.   6.   9.   1.   2.   4.   4.   6.\n",
      "   8.   6.   4.   5.   5.   6.   6.   9.   4.   6.   3.   3.   6.   3.   2.\n",
      "   4.   6.   3.   6.   5.   6.   8.   5.   2.   4.   6.   7.   7.   9.   8.\n",
      "   4.   5.   3.   1.   4.   6.   1.   6.   2.   3.   5.   5.   3.   4.   6.\n",
      "   4.   5.   4.   7.   6.   3.   2.   4.   7.   6.   3.   4.   2.   5.   6.\n",
      "   7.   4.   8.   3.   3.  10.   3.   2.   5.   4.   5.   6.   6.   5.   2.\n",
      "   5.   2.   4.   6.   8.   4.   3.   6.   2.   1.   6.   3.   5.   9.   6.\n",
      "   2.   9.   4.   4.   6.   4.   5.   7.   5.   7.   4.   8.   4.   4.   4.\n",
      "   4.   7.   3.   7.   8.   2.   6.   2.   7.   7.   4.   3.   7.   9.   5.\n",
      "   5.   7.   4.   5.   3.   7.   7.   4.   3.   3.   3.   6.   5.   6.   8.\n",
      "   2.   9.   9.   4.   7.   8.   3.   4.   4.   7.   4.   2.   6.   8.   5.\n",
      "   6.   5.   3.   6.   9.   3.   1.   6.   4.   4.   3.   5.   5.   5.  12.\n",
      "   5.  10.  11.   3.   9.   3.   7.   5.   5.   5.   4.   5.   8.   9.   6.\n",
      "   6.   4.   6.   4.   6.   3.   6.   7.   5.   4.   2.   4.   6.   2.   3.\n",
      "   4.   6.   6.   1.   3.   7.   3.   7.   3.   1.   5.   5.   1.   8.   6.\n",
      "   8.   5.   5.   8.   6.   3.   2.   6.   4.   9.   6.   4.   8.   3.   8.\n",
      "   4.   3.   3.   4.   4.   3.   4.   5.   2.   4.   4.  10.   9.   7.   2.\n",
      "   9.   5.   4.   3.   5.   4.   5.   4.   4.   4.   4.   3.   4.   5.   7.\n",
      "   3.   5.   3.   2.   2.   5.   5.   7.   7.   2.]\n"
     ]
    },
    {
     "data": {
      "image/png": "[encoded data removed]",
      "text/plain": [
       "<matplotlib.figure.Figure at 0x1c5fac134e0>"
      ]
     },
     "metadata": {},
     "output_type": "display_data"
    },
    {
     "name": "stdout",
     "output_type": "stream",
     "text": [
      "Probability of losing money = 0.022\n"
     ]
    }
   ],
   "source": [
    "# Compute ECDF: x, y\n",
    "print(n_defaults)\n",
    "x,y=ecdf(n_defaults)\n",
    "\n",
    "# Plot the ECDF with labeled axes\n",
    "\n",
    "_=plt.plot(x,y,marker='.',linestyle='none')\n",
    "\n",
    "\n",
    "plt.xlabel('n_defaults')\n",
    "plt.ylabel('ECDF')\n",
    "\n",
    "\n",
    "\n",
    "# Show the plot\n",
    "plt.show()\n",
    "\n",
    "# Compute the number of 100-loan simulations with 10 or more defaults: n_lose_money\n",
    "n_lose_money=np.sum(n_defaults>=10)\n",
    "\n",
    "# Compute and print probability of losing money\n",
    "print('Probability of losing money =', n_lose_money / len(n_defaults))\n"
   ]
  },
  {
   "cell_type": "markdown",
   "metadata": {},
   "source": [
    "As we might expect, we most likely get 5/100 defaults. But we still have about a 2% chance of getting 10 or more defaults out of 100 loans."
   ]
  },
  {
   "cell_type": "code",
   "execution_count": 7,
   "metadata": {},
   "outputs": [
    {
     "data": {
      "image/png": "[encoded data removed]",
      "text/plain": [
       "<matplotlib.figure.Figure at 0x1c5fad03828>"
      ]
     },
     "metadata": {},
     "output_type": "display_data"
    }
   ],
   "source": [
    "# Take 10,000 samples out of the binomial distribution: n_defaults\n",
    "n_defaults=np.random.binomial(100,0.05,size=10000)\n",
    "# Compute CDF: x, y\n",
    "x,y=ecdf(n_defaults)\n",
    "\n",
    "# Plot the CDF with axis labels\n",
    "_=plt.plot(x,y,marker='.',linestyle='none')\n",
    "\n",
    "\n",
    "plt.xlabel('n_defaults')\n",
    "plt.ylabel('ECDF')\n",
    "\n",
    "\n",
    "\n",
    "# Show the plot\n",
    "plt.show()\n",
    "\n",
    "\n",
    "\n",
    "\n",
    "# Show the plot\n",
    "\n"
   ]
  },
  {
   "cell_type": "markdown",
   "metadata": {},
   "source": [
    "Using built-in algorithms to directly sample out of the distribution is much faster.(np.random.binomial(n,p,size))"
   ]
  },
  {
   "cell_type": "markdown",
   "metadata": {},
   "source": [
    "Plotting a nice looking PMF requires a bit of matplotlib trickery that we will not go into here.\n",
    "\n",
    "Instead, we will plot the PMF of the Binomial distribution as a histogram with skills you have already learned. The trick is setting up the edges of the bins to pass to plt.hist() via the bins keyword argument.\n",
    "\n",
    "We want the bins centered on the integers. So, the edges of the bins should be -0.5, 0.5, 1.5, 2.5, ... up to max(n_defaults) + 1.5. We can generate an array like this using np.arange() and then subtracting 0.5 from the array."
   ]
  },
  {
   "cell_type": "code",
   "execution_count": 8,
   "metadata": {},
   "outputs": [
    {
     "data": {
      "image/png": "[encoded data removed]",
      "text/plain": [
       "<matplotlib.figure.Figure at 0x1c5faee16d8>"
      ]
     },
     "metadata": {},
     "output_type": "display_data"
    }
   ],
   "source": [
    "# Compute bin edges: bins\n",
    "bins = np.arange(0,max(n_defaults) +1.5) - 0.5\n",
    "\n",
    "# Generate histogram\n",
    "plt.hist(n_defaults,bins=bins,normed=True)\n",
    "\n",
    "# Set margins\n",
    "plt.margins(0.02)\n",
    "\n",
    "# Label axes\n",
    "\n",
    "plt.xlabel('n_defaults')\n",
    "plt.ylabel('ECDF')\n",
    "\n",
    "# Show the plot\n",
    "plt.show()\n"
   ]
  },
  {
   "cell_type": "markdown",
   "metadata": {},
   "source": [
    "# Poisson"
   ]
  },
  {
   "cell_type": "markdown",
   "metadata": {},
   "source": [
    "Poisson distribution is a limit of the Binomial distribution for rare events. This makes sense if you think about the stories. Say we do a Bernoulli trial every minute for an hour, each with a success probability of 0.1. We would do 60 trials, and the number of successes is Binomially distributed, and we would expect to get about 6 successes.\n",
    "\n",
    "The Poisson distribution with arrival rate equal to np approximates a Binomial distribution for n Bernoulli trials with probability p of success (with n large and p small). Importantly, the Poisson distribution is often simpler to work with because it has only one parameter instead of two for the Binomial distribution."
   ]
  },
  {
   "cell_type": "code",
   "execution_count": 10,
   "metadata": {},
   "outputs": [
    {
     "data": {
      "image/png": "[encoded data removed]",
      "text/plain": [
       "<matplotlib.figure.Figure at 0x1c5faf79400>"
      ]
     },
     "metadata": {},
     "output_type": "display_data"
    },
    {
     "name": "stdout",
     "output_type": "stream",
     "text": [
      "Poisson:      10.0045 3.16330203269\n",
      "n = 20 Binom: 9.9846 2.23717742703\n",
      "n = 100 Binom: 9.9512 2.99483197525\n",
      "n = 1000 Binom: 10.0644 3.1600083291\n"
     ]
    }
   ],
   "source": [
    "# Draw 10,000 samples out of Poisson distribution: samples_poisson\n",
    "samples_poisson=np.random.poisson(10,size=10000)\n",
    "x,y=ecdf(samples_poisson)\n",
    "\n",
    "# Plot the CDF with axis labels\n",
    "_=plt.plot(x,y,marker='.',linestyle='none')\n",
    "\n",
    "\n",
    "plt.xlabel('n_defaults')\n",
    "plt.ylabel('ECDF')\n",
    "\n",
    "\n",
    "\n",
    "# Show the plot\n",
    "plt.show()\n",
    "\n",
    "# Print the mean and standard deviation\n",
    "print('Poisson:     ', np.mean(samples_poisson),\n",
    "                       np.std(samples_poisson))\n",
    "\n",
    "# Specify values of n and p to consider for Binomial: n, p\n",
    "n=[20,100,1000]\n",
    "p=[0.5,0.1,0.01]\n",
    "\n",
    "\n",
    "# Draw 10,000 samples for each n,p pair: samples_binomial\n",
    "for i in range(3):\n",
    "    samples_binomial =np.random.binomial(n[i],p[i],size=10000)\n",
    "\n",
    "    # Print results\n",
    "    print('n =', n[i], 'Binom:', np.mean(samples_binomial),\n",
    "                                 np.std(samples_binomial))\n"
   ]
  },
  {
   "cell_type": "markdown",
   "metadata": {},
   "source": [
    "The means are all about the same, which can be shown to be true by doing some pen-and-paper work. The standard deviation of the Binomial distribution gets closer and closer to that of the Poisson distribution as the probability p gets lower and lower."
   ]
  },
  {
   "cell_type": "markdown",
   "metadata": {},
   "source": [
    "When we have rare events (low p, high n), the Binomial distribution is Poisson. This has a single parameter, the mean number of successes per time interval, in our case the mean number of no-hitters per season."
   ]
  },
  {
   "cell_type": "code",
   "execution_count": 11,
   "metadata": {},
   "outputs": [
    {
     "name": "stdout",
     "output_type": "stream",
     "text": [
      "Probability of seven or more no-hitters: 0.0067\n"
     ]
    }
   ],
   "source": [
    "# Draw 10,000 samples out of Poisson distribution: n_nohitters\n",
    "n_nohitters=np.random.poisson(251/115,size=10000)\n",
    "\n",
    "# Compute number of samples that are seven or greater: n_large\n",
    "n_large = np.sum(n_nohitters>=7)\n",
    "\n",
    "# Compute probability of getting seven or more: p_large\n",
    "p_large=n_large/10000\n",
    "\n",
    "# Print the result\n",
    "print('Probability of seven or more no-hitters:', p_large)\n"
   ]
  },
  {
   "cell_type": "markdown",
   "metadata": {},
   "source": [
    "The result is about 0.007. This means that it is not that improbable to see a 7-or-more no-hitter season in a century. We have seen two in a century and a half, so it is not unreasonable."
   ]
  },
  {
   "cell_type": "code",
   "execution_count": null,
   "metadata": {
    "collapsed": true
   },
   "outputs": [],
   "source": []
  }
 ],
 "metadata": {
  "kernelspec": {
   "display_name": "Python 3",
   "language": "python",
   "name": "python3"
  },
  "language_info": {
   "codemirror_mode": {
    "name": "ipython",
    "version": 3
   },
   "file_extension": ".py",
   "mimetype": "text/x-python",
   "name": "python",
   "nbconvert_exporter": "python",
   "pygments_lexer": "ipython3",
   "version": "3.6.1"
  }
 },
 "nbformat": 4,
 "nbformat_minor": 2
}

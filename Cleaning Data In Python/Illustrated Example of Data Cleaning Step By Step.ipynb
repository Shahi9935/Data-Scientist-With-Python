{
 "cells": [
  {
   "cell_type": "markdown",
   "metadata": {},
   "source": [
    "# STEP 1 :Exploratory analysis"
   ]
  },
  {
   "cell_type": "markdown",
   "metadata": {},
   "source": [
    "Whenever we obtain a new dataset, our first task should always be to do some exploratory analysis to get a better understanding of the data and diagnose it for any potential issues.\n",
    "\n",
    "The Gapminder data for the 19th century has been loaded into a DataFrame called g1800s. In the IPython Shell, use pandas methods such as .head(), .info(), and .describe(), and DataFrame attributes like .columns and .shape to explore it."
   ]
  },
  {
   "cell_type": "code",
   "execution_count": 30,
   "metadata": {},
   "outputs": [
    {
     "name": "stdout",
     "output_type": "stream",
     "text": [
      "     HEAD    \n",
      "\n",
      "\n",
      "    1800   1801   1802   1803   1804   1805   1806   1807   1808   1809  \\\n",
      "0    NaN    NaN    NaN    NaN    NaN    NaN    NaN    NaN    NaN    NaN   \n",
      "1  28.21  28.20  28.19  28.18  28.17  28.16  28.15  28.14  28.13  28.12   \n",
      "2    NaN    NaN    NaN    NaN    NaN    NaN    NaN    NaN    NaN    NaN   \n",
      "3  35.40  35.40  35.40  35.40  35.40  35.40  35.40  35.40  35.40  35.40   \n",
      "4  28.82  28.82  28.82  28.82  28.82  28.82  28.82  28.82  28.82  28.82   \n",
      "\n",
      "           ...            2008  2009  2010  2011  2012  2013  2014  2015  \\\n",
      "0          ...             NaN   NaN   NaN   NaN   NaN   NaN   NaN   NaN   \n",
      "1          ...             NaN   NaN   NaN   NaN   NaN   NaN   NaN   NaN   \n",
      "2          ...             NaN   NaN   NaN   NaN   NaN   NaN   NaN   NaN   \n",
      "3          ...             NaN   NaN   NaN   NaN   NaN   NaN   NaN   NaN   \n",
      "4          ...             NaN   NaN   NaN   NaN   NaN   NaN   NaN   NaN   \n",
      "\n",
      "   2016        Life expectancy  \n",
      "0   NaN               Abkhazia  \n",
      "1   NaN            Afghanistan  \n",
      "2   NaN  Akrotiri and Dhekelia  \n",
      "3   NaN                Albania  \n",
      "4   NaN                Algeria  \n",
      "\n",
      "[5 rows x 218 columns]\n",
      "\n",
      "\n",
      "          INFO\n",
      "\n",
      "\n",
      "<class 'pandas.core.frame.DataFrame'>\n",
      "Int64Index: 780 entries, 0 to 259\n",
      "Columns: 218 entries, 1800 to Life expectancy\n",
      "dtypes: float64(217), object(1)\n",
      "memory usage: 1.3+ MB\n",
      "None\n",
      "\n",
      "\n",
      "          DESCRIBE\n",
      "\n",
      "\n",
      "             1800        1801        1802        1803        1804        1805  \\\n",
      "count  201.000000  201.000000  201.000000  201.000000  201.000000  201.000000   \n",
      "mean    31.486020   31.448905   31.463483   31.377413   31.446318   31.562537   \n",
      "std      3.763585    3.755739    3.878204    3.901966    3.877156    3.947957   \n",
      "min     23.390000   23.390000   23.390000   19.600000   23.390000   23.390000   \n",
      "25%     29.000000   28.950000   28.900000   28.900000   28.950000   29.000000   \n",
      "50%     31.800000   31.700000   31.600000   31.500000   31.600000   31.700000   \n",
      "75%     33.900000   33.900000   33.900000   33.800000   33.870000   33.900000   \n",
      "max     42.850000   40.300000   44.370000   44.840000   42.830000   44.270000   \n",
      "\n",
      "             1806        1807        1808        1809     ...            2007  \\\n",
      "count  201.000000  201.000000  201.000000  201.000000     ...      208.000000   \n",
      "mean    31.615970   31.573134   31.376766   31.310448     ...       70.139712   \n",
      "std      4.039261    3.917339    4.017228    3.972970     ...        8.953255   \n",
      "min     23.390000   23.390000   12.480000   13.430000     ...       43.300000   \n",
      "25%     29.000000   29.000000   28.950000   28.820000     ...       64.825000   \n",
      "50%     31.800000   31.800000   31.600000   31.500000     ...       72.750000   \n",
      "75%     34.000000   34.000000   33.870000   33.800000     ...       76.925000   \n",
      "max     45.820000   43.560000   43.550000   41.740000     ...       84.500000   \n",
      "\n",
      "             2008        2009        2010        2011        2012        2013  \\\n",
      "count  208.000000  208.000000  208.000000  208.000000  208.000000  208.000000   \n",
      "mean    70.447163   70.767740   70.969904   71.324375   71.663077   71.916106   \n",
      "std      8.800452    8.610341    8.898859    8.376540    8.217466    8.120852   \n",
      "min     44.500000   45.500000   32.200000   46.700000   46.100000   45.600000   \n",
      "25%     64.875000   65.225000   65.475000   65.600000   66.075000   66.475000   \n",
      "50%     73.000000   73.350000   73.700000   73.750000   74.050000   74.150000   \n",
      "75%     77.150000   77.425000   77.650000   77.825000   78.125000   78.300000   \n",
      "max     84.600000   84.600000   84.700000   84.700000   84.700000   84.800000   \n",
      "\n",
      "             2014       2015        2016  \n",
      "count  208.000000  208.00000  208.000000  \n",
      "mean    72.088125   72.32101   72.556635  \n",
      "std      8.074990    7.90202    7.738535  \n",
      "min     45.400000   47.10000   48.860000  \n",
      "25%     66.775000   67.05000   67.175000  \n",
      "50%     74.300000   74.40000   74.500000  \n",
      "75%     78.400000   78.50000   78.650000  \n",
      "max     84.800000   84.80000   84.800000  \n",
      "\n",
      "[8 rows x 217 columns]\n",
      "\n",
      "\n",
      "           COLUMNS\n",
      "\n",
      "\n",
      "Index(['1800', '1801', '1802', '1803', '1804', '1805', '1806', '1807', '1808',\n",
      "       '1809',\n",
      "       ...\n",
      "       '2008', '2009', '2010', '2011', '2012', '2013', '2014', '2015', '2016',\n",
      "       'Life expectancy'],\n",
      "      dtype='object', length=218)\n",
      "\n",
      "\n",
      "         Shape of DataFrame\n",
      "\n",
      "\n",
      "(780, 218)\n",
      "\n",
      "\n",
      "\n",
      "Count Value\n",
      "\n",
      "\n",
      "Nepal                       3\n",
      "Bahrain                     3\n",
      "Mali                        3\n",
      "Gabon                       3\n",
      "Cyprus                      3\n",
      "Russia                      3\n",
      "Colombia                    3\n",
      "New Caledonia               3\n",
      "British Virgin Islands      3\n",
      "French Guiana               3\n",
      "Eritrea                     3\n",
      "Congo, Dem. Rep.            3\n",
      "Puerto Rico                 3\n",
      "Vietnam                     3\n",
      "Central African Republic    3\n",
      "Mayotte                     3\n",
      "Japan                       3\n",
      "United Kingdom              3\n",
      "Morocco                     3\n",
      "American Samoa              3\n",
      "Mauritania                  3\n",
      "East Germany                3\n",
      "Belarus                     3\n",
      "Niue                        3\n",
      "Ngorno-Karabakh             3\n",
      "South Korea                 3\n",
      "United States               3\n",
      "Christmas Island            3\n",
      "Abkhazia                    3\n",
      "Yugoslavia                  3\n",
      "                           ..\n",
      "Monaco                      3\n",
      "Thailand                    3\n",
      "Marshall Islands            3\n",
      "Zimbabwe                    3\n",
      "Greece                      3\n",
      "Armenia                     3\n",
      "North Yemen (former)        3\n",
      "Sweden                      3\n",
      "Guyana                      3\n",
      "South Africa                3\n",
      "St. Lucia                   3\n",
      "Northern Cyprus             3\n",
      "Barbados                    3\n",
      "Liechtenstein               3\n",
      "Austria                     3\n",
      "Germany                     3\n",
      "Libya                       3\n",
      "Akrotiri and Dhekelia       3\n",
      "Namibia                     3\n",
      "China                       3\n",
      "Angola                      3\n",
      "Senegal                     3\n",
      "Martinique                  3\n",
      "Vanuatu                     3\n",
      "Netherlands                 3\n",
      "Tokelau                     3\n",
      "Faeroe Islands              3\n",
      "Kazakhstan                  3\n",
      "Kosovo                      3\n",
      "Anguilla                    3\n",
      "Name: Life expectancy, Length: 260, dtype: int64\n"
     ]
    }
   ],
   "source": [
    "import pandas as pd\n",
    "g1800s=pd.read_csv('gapminder.csv',index_col=0)\n",
    "#g1800s.drop(['Unnamed: 0'],axis=0)\n",
    "g1800s.set_index(['Life expectancy'])\n",
    "print('     HEAD    \\n\\n')\n",
    "print(g1800s.head())\n",
    "print('\\n\\n          INFO\\n\\n')\n",
    "print(g1800s.info())\n",
    "print('\\n\\n          DESCRIBE\\n\\n')\n",
    "print(g1800s.describe())\n",
    "print('\\n\\n           COLUMNS\\n\\n')\n",
    "print(g1800s.columns)\n",
    "print('\\n\\n         Shape of DataFrame\\n\\n')\n",
    "print(g1800s.shape)\n",
    "print('\\n\\n\\nCount Value\\n\\n')\n",
    "print(g1800s['Life expectancy'].value_counts())"
   ]
  },
  {
   "cell_type": "markdown",
   "metadata": {},
   "source": [
    "# STEP 2:Visualizing our data"
   ]
  },
  {
   "cell_type": "markdown",
   "metadata": {},
   "source": [
    "Our job in this exercise is to create a scatter plot with life expectancy in '1800' on the x-axis and life expectancy in '1899' on the y-axis.\n",
    "\n",
    "Here, the goal is to visually check the data for insights as well as errors. When looking at the plot, pay attention to whether the scatter plot takes the form of a diagonal line, and which points fall below or above the diagonal line. This will inform how life expectancy in 1899 changed (or did not change) compared to 1800 for different countries. If points fall on a diagonal line, it means that life expectancy remained the same!"
   ]
  },
  {
   "cell_type": "code",
   "execution_count": 25,
   "metadata": {},
   "outputs": [
    {
     "data": {
      "image/png": "[encoded data removed]",
      "text/plain": [
       "<matplotlib.figure.Figure at 0x20c40024518>"
      ]
     },
     "metadata": {},
     "output_type": "display_data"
    }
   ],
   "source": [
    "# Import matplotlib.pyplot\n",
    "import matplotlib.pyplot as plt\n",
    "\n",
    "# Create the scatter plot\n",
    "g1800s.plot(kind='scatter', x='1800', y='1899')\n",
    "\n",
    "# Specify axis labels\n",
    "plt.xlabel('Life Expectancy by Country in 1800')\n",
    "plt.ylabel('Life Expectancy by Country in 1899')\n",
    "\n",
    "# Specify axis limits\n",
    "plt.xlim(20, 55)\n",
    "plt.ylim(20, 55)\n",
    "\n",
    "# Display the plot\n",
    "plt.show()\n"
   ]
  },
  {
   "cell_type": "markdown",
   "metadata": {},
   "source": [
    "As We can see, there are a surprising number of countries that fall on the diagonal line. In fact, examining the DataFrame reveals that the life expectancy for 140 of the 260 countries did not change at all in the 19th century! This is possibly a result of not having access to the data for all the years back then. In this way, visualizing your data can help you uncover insights as well as diagnose it for errors."
   ]
  },
  {
   "cell_type": "markdown",
   "metadata": {},
   "source": [
    "# STEP 3:ASSERTING"
   ]
  },
  {
   "cell_type": "code",
   "execution_count": 27,
   "metadata": {},
   "outputs": [
    {
     "ename": "AssertionError",
     "evalue": "",
     "output_type": "error",
     "traceback": [
      "\u001b[1;31m---------------------------------------------------------------------------\u001b[0m",
      "\u001b[1;31mAssertionError\u001b[0m                            Traceback (most recent call last)",
      "\u001b[1;32m<ipython-input-27-7b313e7e34f6>\u001b[0m in \u001b[0;36m<module>\u001b[1;34m()\u001b[0m\n\u001b[0;32m     16\u001b[0m \u001b[1;33m\u001b[0m\u001b[0m\n\u001b[0;32m     17\u001b[0m \u001b[1;31m# Check that there is only one instance of each country\u001b[0m\u001b[1;33m\u001b[0m\u001b[1;33m\u001b[0m\u001b[0m\n\u001b[1;32m---> 18\u001b[1;33m \u001b[1;32massert\u001b[0m \u001b[0mg1800s\u001b[0m\u001b[1;33m[\u001b[0m\u001b[1;34m'Life expectancy'\u001b[0m\u001b[1;33m]\u001b[0m\u001b[1;33m.\u001b[0m\u001b[0mvalue_counts\u001b[0m\u001b[1;33m(\u001b[0m\u001b[1;33m)\u001b[0m\u001b[1;33m[\u001b[0m\u001b[1;36m0\u001b[0m\u001b[1;33m]\u001b[0m \u001b[1;33m==\u001b[0m\u001b[1;36m1\u001b[0m\u001b[1;33m\u001b[0m\u001b[0m\n\u001b[0m",
      "\u001b[1;31mAssertionError\u001b[0m: "
     ]
    }
   ],
   "source": [
    "def check_null_or_valid(row_data):\n",
    "    \"\"\"Function that takes a row of data,\n",
    "    drops all missing values,\n",
    "    and checks if all remaining values are greater than or equal to 0\n",
    "    \"\"\"\n",
    "    no_na = row_data.dropna()[1:-1]\n",
    "    numeric =pd.to_numeric(no_na)\n",
    "    ge0 = numeric >= 0\n",
    "    return ge0\n",
    "\n",
    "# Check whether the first column is 'Life expectancy'\n",
    "assert g1800s.columns[-1] == 'Life expectancy'\n",
    "\n",
    "# Check whether the values in the row are valid\n",
    "assert g1800s.iloc[:, 1:].apply(check_null_or_valid , axis=1).all().all()\n",
    "\n",
    "# Check that there is only one instance of each country\n",
    "assert g1800s['Life expectancy'].value_counts()[0] ==1\n"
   ]
  },
  {
   "cell_type": "markdown",
   "metadata": {
    "collapsed": true
   },
   "source": [
    "# STEP 4:Reshaping our data"
   ]
  },
  {
   "cell_type": "markdown",
   "metadata": {},
   "source": [
    "Now that we have all the data combined into a single DataFrame, the next step is to reshape it into a tidy data format.\n",
    "\n",
    "Currently, the gapminder DataFrame has a separate column for each year. What we want instead is a single column that contains the year, and a single column that represents the average life expectancy for each year and country. By having year in its own column, we can use it as a predictor variable in a later analysis. \n",
    "\n",
    "We can convert the DataFrame into the desired tidy format by melting it."
   ]
  },
  {
   "cell_type": "code",
   "execution_count": 33,
   "metadata": {},
   "outputs": [
    {
     "name": "stdout",
     "output_type": "stream",
     "text": [
      "                         country  year  life_expectancy\n",
      "0                       Abkhazia  1800              NaN\n",
      "1                    Afghanistan  1800            28.21\n",
      "2          Akrotiri and Dhekelia  1800              NaN\n",
      "3                        Albania  1800            35.40\n",
      "4                        Algeria  1800            28.82\n",
      "5                 American Samoa  1800              NaN\n",
      "6                        Andorra  1800              NaN\n",
      "7                         Angola  1800            26.98\n",
      "8                       Anguilla  1800              NaN\n",
      "9            Antigua and Barbuda  1800            33.54\n",
      "10                     Argentina  1800            33.20\n",
      "11                       Armenia  1800            34.00\n",
      "12                         Aruba  1800            34.42\n",
      "13                     Australia  1800            34.05\n",
      "14                       Austria  1800            34.40\n",
      "15                    Azerbaijan  1800            29.17\n",
      "16                       Bahamas  1800            35.18\n",
      "17                       Bahrain  1800            30.30\n",
      "18                    Bangladesh  1800            25.50\n",
      "19                      Barbados  1800            32.12\n",
      "20                       Belarus  1800            36.20\n",
      "21                       Belgium  1800            40.00\n",
      "22                        Belize  1800            26.50\n",
      "23                         Benin  1800            31.00\n",
      "24                       Bermuda  1800              NaN\n",
      "25                        Bhutan  1800            28.80\n",
      "26                       Bolivia  1800            33.00\n",
      "27        Bosnia and Herzegovina  1800            35.10\n",
      "28                      Botswana  1800            33.60\n",
      "29                        Brazil  1800            32.00\n",
      "...                          ...   ...              ...\n",
      "169230       Trinidad and Tobago  2016            72.50\n",
      "169231                   Tunisia  2016            77.60\n",
      "169232                    Turkey  2016            79.30\n",
      "169233              Turkmenistan  2016            70.40\n",
      "169234  Turks and Caicos Islands  2016              NaN\n",
      "169235                    Tuvalu  2016              NaN\n",
      "169236                    Uganda  2016            61.91\n",
      "169237                   Ukraine  2016            71.70\n",
      "169238      United Arab Emirates  2016            75.40\n",
      "169239            United Kingdom  2016            81.10\n",
      "169240             United States  2016            79.10\n",
      "169241                   Uruguay  2016            77.00\n",
      "169242                      USSR  2016              NaN\n",
      "169243                Uzbekistan  2016            72.10\n",
      "169244          Wallis et Futuna  2016              NaN\n",
      "169245                   Vanuatu  2016            65.10\n",
      "169246                 Venezuela  2016            74.80\n",
      "169247        West Bank and Gaza  2016            74.70\n",
      "169248              West Germany  2016              NaN\n",
      "169249            Western Sahara  2016            68.56\n",
      "169250                   Vietnam  2016            75.60\n",
      "169251     Virgin Islands (U.S.)  2016            80.82\n",
      "169252      North Yemen (former)  2016              NaN\n",
      "169253      South Yemen (former)  2016              NaN\n",
      "169254                     Yemen  2016            64.92\n",
      "169255                Yugoslavia  2016              NaN\n",
      "169256                    Zambia  2016            57.10\n",
      "169257                  Zimbabwe  2016            61.69\n",
      "169258                     Åland  2016              NaN\n",
      "169259               South Sudan  2016            56.10\n",
      "\n",
      "[169260 rows x 3 columns]\n"
     ]
    }
   ],
   "source": [
    "# Melt gapminder: gapminder_melt\n",
    "gapminder_melt = pd.melt(frame=g1800s,id_vars='Life expectancy')\n",
    "\n",
    "# Rename the columns\n",
    "gapminder_melt.columns =['country','year','life_expectancy']\n",
    "\n",
    "# Print the head of gapminder_melt\n",
    "print(gapminder_melt)\n",
    "\n"
   ]
  },
  {
   "cell_type": "markdown",
   "metadata": {},
   "source": [
    "# STEP 5:Checking the data types"
   ]
  },
  {
   "cell_type": "markdown",
   "metadata": {},
   "source": [
    "Now that our data is in the proper shape, we need to ensure that the columns are of the proper data type. That is, you need to ensure that country is of type object, year is of type int64, and life_expectancy is of type float64."
   ]
  },
  {
   "cell_type": "code",
   "execution_count": 37,
   "metadata": {},
   "outputs": [
    {
     "name": "stdout",
     "output_type": "stream",
     "text": [
      "<class 'pandas.core.frame.DataFrame'>\n",
      "RangeIndex: 169260 entries, 0 to 169259\n",
      "Data columns (total 3 columns):\n",
      "country            169260 non-null object\n",
      "year               169260 non-null object\n",
      "life_expectancy    43857 non-null float64\n",
      "dtypes: float64(1), object(2)\n",
      "memory usage: 3.9+ MB\n"
     ]
    }
   ],
   "source": [
    "gapminder_melt.info()"
   ]
  },
  {
   "cell_type": "code",
   "execution_count": 38,
   "metadata": {},
   "outputs": [
    {
     "data": {
      "text/plain": [
       "country             object\n",
       "year                object\n",
       "life_expectancy    float64\n",
       "dtype: object"
      ]
     },
     "execution_count": 38,
     "metadata": {},
     "output_type": "execute_result"
    }
   ],
   "source": [
    "gapminder_melt.dtypes"
   ]
  },
  {
   "cell_type": "markdown",
   "metadata": {
    "collapsed": true
   },
   "source": [
    "Notice that the column 'year' is of type object. This is incorrect, so you'll need to use the pd.to_numeric() function to convert it to a numeric data type."
   ]
  },
  {
   "cell_type": "code",
   "execution_count": 40,
   "metadata": {
    "collapsed": true
   },
   "outputs": [],
   "source": [
    "# Convert the year column to numeric\n",
    "import numpy as np\n",
    "gapminder_melt.year = pd.to_numeric(gapminder_melt['year'])\n",
    "\n",
    "# Test if country is of type object\n",
    "assert gapminder_melt.country.dtypes == np.object\n",
    "\n",
    "# Test if year is of type int64\n",
    "assert gapminder_melt.year.dtypes == np.int64\n",
    "\n",
    "# Test if life_expectancy is of type float64\n",
    "assert gapminder_melt.life_expectancy.dtypes == np.float64\n"
   ]
  },
  {
   "cell_type": "markdown",
   "metadata": {},
   "source": [
    "# STEP 6:Use Regular Expression"
   ]
  },
  {
   "cell_type": "markdown",
   "metadata": {},
   "source": [
    "Having tidied your DataFrame and checked the data types, your next task in the data cleaning process is to look at the 'country' column to see if there are any special or invalid characters you may need to deal with.\n",
    "\n",
    "It is reasonable to assume that country names will contain:\n",
    "\n",
    "    The set of lower and upper case letters.\n",
    "    Whitespace between words.\n",
    "    Periods for any abbreviations.\n",
    "\n",
    "To confirm that this is the case, you can leverage the power of regular expressions again. For common operations like this, Python has a built-in string method - str.contains() - which takes a regular expression pattern, and applies it to the Series, returning True if there is a match, and False otherwise.\n",
    "\n",
    "Since here you want to find the values that do not match, you have to invert the boolean, which can be done using ~. This Boolean series can then be used to get the Series of countries that have invalid names."
   ]
  },
  {
   "cell_type": "code",
   "execution_count": 41,
   "metadata": {},
   "outputs": [
    {
     "name": "stdout",
     "output_type": "stream",
     "text": [
      "49            Congo, Dem. Rep.\n",
      "50                 Congo, Rep.\n",
      "53               Cote d'Ivoire\n",
      "73      Falkland Is (Malvinas)\n",
      "93               Guinea-Bissau\n",
      "98            Hong Kong, China\n",
      "118    United Korea (former)\\n\n",
      "131               Macao, China\n",
      "132             Macedonia, FYR\n",
      "145      Micronesia, Fed. Sts.\n",
      "161            Ngorno-Karabakh\n",
      "187             St. Barthélemy\n",
      "193     St.-Pierre-et-Miquelon\n",
      "225                Timor-Leste\n",
      "251      Virgin Islands (U.S.)\n",
      "252       North Yemen (former)\n",
      "253       South Yemen (former)\n",
      "258                      Åland\n",
      "Name: country, dtype: object\n"
     ]
    }
   ],
   "source": [
    "# Create the series of countries: countries\n",
    "countries = gapminder_melt['country']\n",
    "\n",
    "# Drop all the duplicates from countries\n",
    "countries =countries.drop_duplicates()\n",
    "\n",
    "# Write the regular expression: pattern\n",
    "pattern = '^[A-Za-z\\.\\s]*$'\n",
    "\n",
    "# Create the Boolean vector: mask\n",
    "mask = countries.str.contains(pattern)\n",
    "\n",
    "# Invert the mask: mask_inverse\n",
    "mask_inverse =~mask\n",
    "\n",
    "# Subset countries using mask_inverse: invalid_countries\n",
    "invalid_countries = countries.loc[mask_inverse]\n",
    "\n",
    "# Print invalid_countries\n",
    "print(invalid_countries)\n"
   ]
  },
  {
   "cell_type": "markdown",
   "metadata": {},
   "source": [
    "# STEP 7:Missing Data"
   ]
  },
  {
   "cell_type": "markdown",
   "metadata": {},
   "source": [
    "It's now time to deal with the missing data. There are several strategies for this: You can drop them, fill them in using the mean of the column or row that the missing value is in (also known as imputation), or, if you are dealing with time series data, use a forward fill or backward fill, in which you replace missing values in a column with the most recent known value in the column\n",
    "\n",
    "In general, it is not the best idea to drop missing values, because in doing so we may end up throwing away useful information. In this data, the missing values refer to years where no estimate for life expectancy is available for a given country. We could fill in, or guess what these life expectancies could be by looking at the average life expectancies for other countries in that year, for example. Whichever strategy we go with, it is important to carefully consider all options and understand how they will affect our data.\n",
    "\n"
   ]
  },
  {
   "cell_type": "code",
   "execution_count": 44,
   "metadata": {},
   "outputs": [
    {
     "name": "stdout",
     "output_type": "stream",
     "text": [
      "(43857, 3)\n"
     ]
    }
   ],
   "source": [
    "# Assert that country does not contain any missing values\n",
    "assert pd.notnull(gapminder_melt.country).all()\n",
    "\n",
    "# Assert that year does not contain any missing values\n",
    "assert pd.notnull(gapminder_melt.year).all()\n",
    "\n",
    "# Drop the missing values\n",
    "gapminder = gapminder_melt.dropna(axis=0,how='any')\n",
    "\n",
    "# Print the shape of gapminder\n",
    "print(gapminder.shape)\n"
   ]
  },
  {
   "cell_type": "markdown",
   "metadata": {},
   "source": [
    "After dropping the missing values from 'life_expectancy', the number of rows in the DataFrame has gone down from 169260 to 43857. In general, you should avoid dropping too much of your data, but if there is no reasonable way to fill in or impute missing values, then dropping the missing data may be the best solution."
   ]
  },
  {
   "cell_type": "markdown",
   "metadata": {},
   "source": [
    "# STEP 8:Visualization"
   ]
  },
  {
   "cell_type": "markdown",
   "metadata": {},
   "source": [
    "Now that you have a clean and tidy dataset, you can do a bit of visualization and aggregation. In this exercise, you'll begin by creating a histogram of the life_expectancy column. You should not get any values under 0 and you should see something reasonable on the higher end of the life_expectancy age range.\n",
    "\n",
    "Your next task is to investigate how average life expectancy changed over the years. To do this, you need to subset the data by each year, get the life_expectancy column from each subset, and take an average of the values. You can achieve this using the .groupby() method. This .groupby() method is covered in greater depth in Manipulating DataFrames with pandas.\n",
    "\n",
    "Finally, you can save your tidy and summarized DataFrame to a file using the .to_csv() method. "
   ]
  },
  {
   "cell_type": "code",
   "execution_count": 45,
   "metadata": {},
   "outputs": [
    {
     "name": "stdout",
     "output_type": "stream",
     "text": [
      "year\n",
      "1800    31.486020\n",
      "1801    31.448905\n",
      "1802    31.463483\n",
      "1803    31.377413\n",
      "1804    31.446318\n",
      "Name: life_expectancy, dtype: float64\n",
      "year\n",
      "2012    71.663077\n",
      "2013    71.916106\n",
      "2014    72.088125\n",
      "2015    72.321010\n",
      "2016    72.556635\n",
      "Name: life_expectancy, dtype: float64\n"
     ]
    },
    {
     "data": {
      "image/png": "[encoded data removed]",
      "text/plain": [
       "<matplotlib.figure.Figure at 0x20c3ee7b6a0>"
      ]
     },
     "metadata": {},
     "output_type": "display_data"
    }
   ],
   "source": [
    "# Add first subplot\n",
    "import matplotlib.pyplot as plt\n",
    "plt.subplot(2, 1, 1) \n",
    "\n",
    "# Create a histogram of life_expectancy\n",
    "gapminder.life_expectancy.plot(kind='hist')\n",
    "\n",
    "# Group gapminder: gapminder_agg\n",
    "gapminder_agg = gapminder.groupby('year')['life_expectancy'].mean()\n",
    "\n",
    "# Print the head of gapminder_agg\n",
    "print(gapminder_agg.head())\n",
    "\n",
    "# Print the tail of gapminder_agg\n",
    "print(gapminder_agg.tail())\n",
    "\n",
    "# Add second subplot\n",
    "plt.subplot(2, 1, 2)\n",
    "\n",
    "# Create a line plot of life expectancy per year\n",
    "gapminder_agg.plot()\n",
    "\n",
    "# Add title and specify axis labels\n",
    "plt.title('Life expectancy over the years')\n",
    "plt.ylabel('Life expectancy')\n",
    "plt.xlabel('Year')\n",
    "\n",
    "# Display the plots\n",
    "plt.tight_layout()\n",
    "plt.show()\n",
    "\n",
    "# Save both DataFrames to csv files\n",
    "gapminder.to_csv('gapminder1.csv')\n",
    "gapminder_agg.to_csv('gapminder_agg.csv')\n"
   ]
  },
  {
   "cell_type": "code",
   "execution_count": null,
   "metadata": {
    "collapsed": true
   },
   "outputs": [],
   "source": []
  }
 ],
 "metadata": {
  "kernelspec": {
   "display_name": "Python 3",
   "language": "python",
   "name": "python3"
  },
  "language_info": {
   "codemirror_mode": {
    "name": "ipython",
    "version": 3
   },
   "file_extension": ".py",
   "mimetype": "text/x-python",
   "name": "python",
   "nbconvert_exporter": "python",
   "pygments_lexer": "ipython3",
   "version": "3.6.1"
  }
 },
 "nbformat": 4,
 "nbformat_minor": 2
}

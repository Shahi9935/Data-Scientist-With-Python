{
 "cells": [
  {
   "cell_type": "markdown",
   "metadata": {
    "collapsed": true
   },
   "source": [
    "# Melt (Columns=>Rows)"
   ]
  },
  {
   "cell_type": "markdown",
   "metadata": {},
   "source": [
    "For data to be tidy, it must have:\n",
    "\n",
    "    Each variable as a separate column.\n",
    "    Each row as a separate observation.\n",
    "\n",
    "As a data scientist, you'll encounter data that is represented in a variety of different ways, so it is important to be able to recognize tidy (or untidy) data when you see it.\n",
    "\n",
    "Melting data is the process of turning columns of your data into rows of data. \n",
    "\n",
    "In the tidy DataFrame, the variables Ozone, Solar.R, Wind, and Temp each had their own column. If, however, we wanted thesThere are two parameters you should be aware of: id_vars and value_vars. The id_vars represent the columns of the data you do not want to melt (i.e., keep it in its current shape), while the value_vars represent the columns you do wish to melt into rows. By default, if no value_vars are provided, all columns not set in the id_vars will be melted. This could save a bit of typing, depending on the number of columns that need to be melted.e variables to be in rows instead, we could melt the DataFrame. In doing so, however, you would make the data untidy! This is important to keep in mind: Depending on how your data is represented, you will have to reshape it differently.\n",
    "\n",
    "There are two parameters you should be aware of: id_vars and value_vars. The id_vars represent the columns of the data you do not want to melt (i.e., keep it in its current shape), while the value_vars represent the columns you do wish to melt into rows. By default, if no value_vars are provided, all columns not set in the id_vars will be melted. This could save a bit of typing, depending on the number of columns that need to be melted."
   ]
  },
  {
   "cell_type": "code",
   "execution_count": 11,
   "metadata": {},
   "outputs": [
    {
     "name": "stdout",
     "output_type": "stream",
     "text": [
      "     Ozone  Solar.R  Wind  Temp  Month  Day\n",
      "0     41.0    190.0   7.4    67      5    1\n",
      "1     36.0    118.0   8.0    72      5    2\n",
      "2     12.0    149.0  12.6    74      5    3\n",
      "3     18.0    313.0  11.5    62      5    4\n",
      "4      NaN      NaN  14.3    56      5    5\n",
      "5     28.0      NaN  14.9    66      5    6\n",
      "6     23.0    299.0   8.6    65      5    7\n",
      "7     19.0     99.0  13.8    59      5    8\n",
      "8      8.0     19.0  20.1    61      5    9\n",
      "9      NaN    194.0   8.6    69      5   10\n",
      "10     7.0      NaN   6.9    74      5   11\n",
      "11    16.0    256.0   9.7    69      5   12\n",
      "12    11.0    290.0   9.2    66      5   13\n",
      "13    14.0    274.0  10.9    68      5   14\n",
      "14    18.0     65.0  13.2    58      5   15\n",
      "15    14.0    334.0  11.5    64      5   16\n",
      "16    34.0    307.0  12.0    66      5   17\n",
      "17     6.0     78.0  18.4    57      5   18\n",
      "18    30.0    322.0  11.5    68      5   19\n",
      "19    11.0     44.0   9.7    62      5   20\n",
      "20     1.0      8.0   9.7    59      5   21\n",
      "21    11.0    320.0  16.6    73      5   22\n",
      "22     4.0     25.0   9.7    61      5   23\n",
      "23    32.0     92.0  12.0    61      5   24\n",
      "24     NaN     66.0  16.6    57      5   25\n",
      "25     NaN    266.0  14.9    58      5   26\n",
      "26     NaN      NaN   8.0    57      5   27\n",
      "27    23.0     13.0  12.0    67      5   28\n",
      "28    45.0    252.0  14.9    81      5   29\n",
      "29   115.0    223.0   5.7    79      5   30\n",
      "..     ...      ...   ...   ...    ...  ...\n",
      "123   96.0    167.0   6.9    91      9    1\n",
      "124   78.0    197.0   5.1    92      9    2\n",
      "125   73.0    183.0   2.8    93      9    3\n",
      "126   91.0    189.0   4.6    93      9    4\n",
      "127   47.0     95.0   7.4    87      9    5\n",
      "128   32.0     92.0  15.5    84      9    6\n",
      "129   20.0    252.0  10.9    80      9    7\n",
      "130   23.0    220.0  10.3    78      9    8\n",
      "131   21.0    230.0  10.9    75      9    9\n",
      "132   24.0    259.0   9.7    73      9   10\n",
      "133   44.0    236.0  14.9    81      9   11\n",
      "134   21.0    259.0  15.5    76      9   12\n",
      "135   28.0    238.0   6.3    77      9   13\n",
      "136    9.0     24.0  10.9    71      9   14\n",
      "137   13.0    112.0  11.5    71      9   15\n",
      "138   46.0    237.0   6.9    78      9   16\n",
      "139   18.0    224.0  13.8    67      9   17\n",
      "140   13.0     27.0  10.3    76      9   18\n",
      "141   24.0    238.0  10.3    68      9   19\n",
      "142   16.0    201.0   8.0    82      9   20\n",
      "143   13.0    238.0  12.6    64      9   21\n",
      "144   23.0     14.0   9.2    71      9   22\n",
      "145   36.0    139.0  10.3    81      9   23\n",
      "146    7.0     49.0  10.3    69      9   24\n",
      "147   14.0     20.0  16.6    63      9   25\n",
      "148   30.0    193.0   6.9    70      9   26\n",
      "149    NaN    145.0  13.2    77      9   27\n",
      "150   14.0    191.0  14.3    75      9   28\n",
      "151   18.0    131.0   8.0    76      9   29\n",
      "152   20.0    223.0  11.5    68      9   30\n",
      "\n",
      "[153 rows x 6 columns]\n",
      "\n",
      "\n",
      "\n",
      "     Month  Day variable  value\n",
      "0        5    1    Ozone   41.0\n",
      "1        5    2    Ozone   36.0\n",
      "2        5    3    Ozone   12.0\n",
      "3        5    4    Ozone   18.0\n",
      "4        5    5    Ozone    NaN\n",
      "5        5    6    Ozone   28.0\n",
      "6        5    7    Ozone   23.0\n",
      "7        5    8    Ozone   19.0\n",
      "8        5    9    Ozone    8.0\n",
      "9        5   10    Ozone    NaN\n",
      "10       5   11    Ozone    7.0\n",
      "11       5   12    Ozone   16.0\n",
      "12       5   13    Ozone   11.0\n",
      "13       5   14    Ozone   14.0\n",
      "14       5   15    Ozone   18.0\n",
      "15       5   16    Ozone   14.0\n",
      "16       5   17    Ozone   34.0\n",
      "17       5   18    Ozone    6.0\n",
      "18       5   19    Ozone   30.0\n",
      "19       5   20    Ozone   11.0\n",
      "20       5   21    Ozone    1.0\n",
      "21       5   22    Ozone   11.0\n",
      "22       5   23    Ozone    4.0\n",
      "23       5   24    Ozone   32.0\n",
      "24       5   25    Ozone    NaN\n",
      "25       5   26    Ozone    NaN\n",
      "26       5   27    Ozone    NaN\n",
      "27       5   28    Ozone   23.0\n",
      "28       5   29    Ozone   45.0\n",
      "29       5   30    Ozone  115.0\n",
      "..     ...  ...      ...    ...\n",
      "582      9    1     Temp   91.0\n",
      "583      9    2     Temp   92.0\n",
      "584      9    3     Temp   93.0\n",
      "585      9    4     Temp   93.0\n",
      "586      9    5     Temp   87.0\n",
      "587      9    6     Temp   84.0\n",
      "588      9    7     Temp   80.0\n",
      "589      9    8     Temp   78.0\n",
      "590      9    9     Temp   75.0\n",
      "591      9   10     Temp   73.0\n",
      "592      9   11     Temp   81.0\n",
      "593      9   12     Temp   76.0\n",
      "594      9   13     Temp   77.0\n",
      "595      9   14     Temp   71.0\n",
      "596      9   15     Temp   71.0\n",
      "597      9   16     Temp   78.0\n",
      "598      9   17     Temp   67.0\n",
      "599      9   18     Temp   76.0\n",
      "600      9   19     Temp   68.0\n",
      "601      9   20     Temp   82.0\n",
      "602      9   21     Temp   64.0\n",
      "603      9   22     Temp   71.0\n",
      "604      9   23     Temp   81.0\n",
      "605      9   24     Temp   69.0\n",
      "606      9   25     Temp   63.0\n",
      "607      9   26     Temp   70.0\n",
      "608      9   27     Temp   77.0\n",
      "609      9   28     Temp   75.0\n",
      "610      9   29     Temp   76.0\n",
      "611      9   30     Temp   68.0\n",
      "\n",
      "[612 rows x 4 columns]\n"
     ]
    }
   ],
   "source": [
    "# Print the head of airquality\n",
    "import pandas as pd\n",
    "airquality=pd.read_csv('airquality.csv')\n",
    "df=pd.DataFrame(airquality)\n",
    "print(airquality)\n",
    "\n",
    "# Melt airquality: airquality_melt\n",
    "airquality_melt = pd.melt(frame=df,id_vars=['Month','Day'])\n",
    "print('\\n\\n')\n",
    "# Print the head of airquality_melt\n",
    "print(airquality_melt)\n"
   ]
  },
  {
   "cell_type": "markdown",
   "metadata": {},
   "source": [
    "When melting DataFrames, it would be better to have column names more meaningful than variable and value.\n",
    "\n",
    "The default names may work in certain situations, but it's best to always have data that is self explanatory.\n",
    "\n",
    "You can rename the variable column by specifying an argument to the var_name parameter, and the value column by specifying an argument to the value_name parameter"
   ]
  },
  {
   "cell_type": "code",
   "execution_count": 14,
   "metadata": {},
   "outputs": [
    {
     "name": "stdout",
     "output_type": "stream",
     "text": [
      "   Ozone  Solar.R  Wind  Temp  Month  Day\n",
      "0   41.0    190.0   7.4    67      5    1\n",
      "1   36.0    118.0   8.0    72      5    2\n",
      "2   12.0    149.0  12.6    74      5    3\n",
      "3   18.0    313.0  11.5    62      5    4\n",
      "4    NaN      NaN  14.3    56      5    5\n",
      "\n",
      "\n",
      "\n",
      "     Month  Day Measurement  Reading\n",
      "0        5    1       Ozone     41.0\n",
      "1        5    2       Ozone     36.0\n",
      "2        5    3       Ozone     12.0\n",
      "3        5    4       Ozone     18.0\n",
      "4        5    5       Ozone      NaN\n",
      "5        5    6       Ozone     28.0\n",
      "6        5    7       Ozone     23.0\n",
      "7        5    8       Ozone     19.0\n",
      "8        5    9       Ozone      8.0\n",
      "9        5   10       Ozone      NaN\n",
      "10       5   11       Ozone      7.0\n",
      "11       5   12       Ozone     16.0\n",
      "12       5   13       Ozone     11.0\n",
      "13       5   14       Ozone     14.0\n",
      "14       5   15       Ozone     18.0\n",
      "15       5   16       Ozone     14.0\n",
      "16       5   17       Ozone     34.0\n",
      "17       5   18       Ozone      6.0\n",
      "18       5   19       Ozone     30.0\n",
      "19       5   20       Ozone     11.0\n",
      "20       5   21       Ozone      1.0\n",
      "21       5   22       Ozone     11.0\n",
      "22       5   23       Ozone      4.0\n",
      "23       5   24       Ozone     32.0\n",
      "24       5   25       Ozone      NaN\n",
      "25       5   26       Ozone      NaN\n",
      "26       5   27       Ozone      NaN\n",
      "27       5   28       Ozone     23.0\n",
      "28       5   29       Ozone     45.0\n",
      "29       5   30       Ozone    115.0\n",
      "..     ...  ...         ...      ...\n",
      "582      9    1        Temp     91.0\n",
      "583      9    2        Temp     92.0\n",
      "584      9    3        Temp     93.0\n",
      "585      9    4        Temp     93.0\n",
      "586      9    5        Temp     87.0\n",
      "587      9    6        Temp     84.0\n",
      "588      9    7        Temp     80.0\n",
      "589      9    8        Temp     78.0\n",
      "590      9    9        Temp     75.0\n",
      "591      9   10        Temp     73.0\n",
      "592      9   11        Temp     81.0\n",
      "593      9   12        Temp     76.0\n",
      "594      9   13        Temp     77.0\n",
      "595      9   14        Temp     71.0\n",
      "596      9   15        Temp     71.0\n",
      "597      9   16        Temp     78.0\n",
      "598      9   17        Temp     67.0\n",
      "599      9   18        Temp     76.0\n",
      "600      9   19        Temp     68.0\n",
      "601      9   20        Temp     82.0\n",
      "602      9   21        Temp     64.0\n",
      "603      9   22        Temp     71.0\n",
      "604      9   23        Temp     81.0\n",
      "605      9   24        Temp     69.0\n",
      "606      9   25        Temp     63.0\n",
      "607      9   26        Temp     70.0\n",
      "608      9   27        Temp     77.0\n",
      "609      9   28        Temp     75.0\n",
      "610      9   29        Temp     76.0\n",
      "611      9   30        Temp     68.0\n",
      "\n",
      "[612 rows x 4 columns]\n"
     ]
    }
   ],
   "source": [
    "# Print the head of airquality\n",
    "print(airquality.head())\n",
    "\n",
    "# Melt airquality: airquality_melt\n",
    "airquality_melt =pd.melt(df,id_vars=['Month','Day'], var_name='Measurement', value_name='Reading')\n",
    "print('\\n\\n')\n",
    "# Print the head of airquality_melt\n",
    "print(airquality_melt)\n"
   ]
  },
  {
   "cell_type": "markdown",
   "metadata": {},
   "source": [
    "# PIVOT (Rows=>Columns)"
   ]
  },
  {
   "cell_type": "markdown",
   "metadata": {},
   "source": [
    "Pivoting data is the opposite of melting it.\n",
    "\n",
    "While melting takes a set of columns and turns it into a single column, pivoting will create a new column for each unique value in a specified column.\n",
    "\n",
    ".pivot_table() has an index parameter which you can use to specify the columns that you don't want pivoted: It is similar to the id_vars parameter of pd.melt(). Two other parameters that you have to specify are columns (the name of the column you want to pivot), and values (the values to be used when the column is pivoted)."
   ]
  },
  {
   "cell_type": "code",
   "execution_count": 17,
   "metadata": {},
   "outputs": [
    {
     "name": "stdout",
     "output_type": "stream",
     "text": [
      "   Month  Day Measurement  Reading\n",
      "0      5    1       Ozone     41.0\n",
      "1      5    2       Ozone     36.0\n",
      "2      5    3       Ozone     12.0\n",
      "3      5    4       Ozone     18.0\n",
      "4      5    5       Ozone      NaN\n",
      "\n",
      "\n",
      "\n",
      "Measurement  Ozone  Solar.R  Temp  Wind\n",
      "Month Day                              \n",
      "5     1       41.0    190.0  67.0   7.4\n",
      "      2       36.0    118.0  72.0   8.0\n",
      "      3       12.0    149.0  74.0  12.6\n",
      "      4       18.0    313.0  62.0  11.5\n",
      "      5        NaN      NaN  56.0  14.3\n"
     ]
    }
   ],
   "source": [
    "# Print the head of airquality_melt\n",
    "print(airquality_melt.head())\n",
    "\n",
    "# Pivot airquality_melt: airquality_pivot\n",
    "airquality_pivot =airquality_melt.pivot_table(index=['Month','Day'],columns='Measurement',values='Reading')\n",
    "print('\\n\\n')\n",
    "# Print the head of airquality_pivot\n",
    "print(airquality_pivot.head())\n"
   ]
  },
  {
   "cell_type": "markdown",
   "metadata": {},
   "source": [
    "After pivoting airquality_melt in the previous exercise, you didn't quite get back the original DataFrame.\n",
    "\n",
    "What you got back instead was a pandas DataFrame with a hierarchical index (also known as a MultiIndex).They allow you to group columns or rows by another variable - in this case, by 'Month' as well as 'Day'. "
   ]
  },
  {
   "cell_type": "code",
   "execution_count": 19,
   "metadata": {},
   "outputs": [
    {
     "name": "stdout",
     "output_type": "stream",
     "text": [
      "RangeIndex(start=0, stop=153, step=1)\n",
      "\n",
      "\n",
      "\n",
      "RangeIndex(start=0, stop=153, step=1)\n",
      "Measurement  index  Month  Day  Ozone  Solar.R  Temp  Wind\n",
      "0                0      5    1   41.0    190.0  67.0   7.4\n",
      "1                1      5    2   36.0    118.0  72.0   8.0\n",
      "2                2      5    3   12.0    149.0  74.0  12.6\n",
      "3                3      5    4   18.0    313.0  62.0  11.5\n",
      "4                4      5    5    NaN      NaN  56.0  14.3\n"
     ]
    }
   ],
   "source": [
    "# Print the index of airquality_pivot\n",
    "print(airquality_pivot.index)\n",
    "print('\\n\\n')\n",
    "# Reset the index of airquality_pivot: airquality_pivot\n",
    "airquality_pivot = airquality_pivot.reset_index()\n",
    "\n",
    "# Print the new index of airquality_pivot\n",
    "print(airquality_pivot.index)\n",
    "\n",
    "# Print the head of airquality_pivot\n",
    "print(airquality_pivot.head())\n"
   ]
  },
  {
   "cell_type": "markdown",
   "metadata": {},
   "source": [
    "## Pivoting Duplicate Values"
   ]
  },
  {
   "cell_type": "markdown",
   "metadata": {},
   "source": [
    "So far,we've used the .pivot_table() method when there are multiple index values ,we want to hold constant during a pivot. We'll see that by using .pivot_table() and the aggfunc parameter, we can not only reshape our data, but also remove duplicates. Finally, we can then flatten the columns of the pivoted DataFrame using .reset_index()."
   ]
  },
  {
   "cell_type": "code",
   "execution_count": 25,
   "metadata": {},
   "outputs": [
    {
     "name": "stdout",
     "output_type": "stream",
     "text": [
      "Measurement  Month  Day  Ozone  Solar.R  Temp  Wind\n",
      "0                5    1   41.0    190.0  67.0   7.4\n",
      "1                5    2   36.0    118.0  72.0   8.0\n",
      "2                5    3   12.0    149.0  74.0  12.6\n",
      "3                5    4   18.0    313.0  62.0  11.5\n",
      "4                5    5    NaN      NaN  56.0  14.3\n",
      "\n",
      "\n",
      "\n",
      "   Ozone  Solar.R  Wind  Temp  Month  Day\n",
      "0   41.0    190.0   7.4    67      5    1\n",
      "1   36.0    118.0   8.0    72      5    2\n",
      "2   12.0    149.0  12.6    74      5    3\n",
      "3   18.0    313.0  11.5    62      5    4\n",
      "4    NaN      NaN  14.3    56      5    5\n"
     ]
    }
   ],
   "source": [
    "\n",
    "import numpy as np\n",
    "# Pivot airquality_dup: airquality_pivot\n",
    "airquality_pivot = airquality_melt.pivot_table(index=['Month','Day'], columns='Measurement', values='Reading', aggfunc=np.mean)\n",
    "\n",
    "# Reset the index of airquality_pivot\n",
    "airquality_pivot =airquality_pivot.reset_index()\n",
    "\n",
    "# Print the head of airquality_pivot\n",
    "print(airquality_pivot.head())\n",
    "print('\\n\\n')\n",
    "# Print the head of airquality\n",
    "print(airquality.head())\n"
   ]
  },
  {
   "cell_type": "code",
   "execution_count": 27,
   "metadata": {},
   "outputs": [
    {
     "name": "stdout",
     "output_type": "stream",
     "text": [
      "  country  year variable  value gender age_group\n",
      "0      AD  2000     m014    0.0      m       014\n",
      "1      AE  2000     m014    2.0      m       014\n",
      "2      AF  2000     m014   52.0      m       014\n",
      "3      AG  2000     m014    0.0      m       014\n",
      "4      AL  2000     m014    2.0      m       014\n"
     ]
    }
   ],
   "source": [
    "# Melt tb: tb_melt\n",
    "tb=pd.read_csv('tb.csv')\n",
    "tb_melt =pd.melt(frame=tb, id_vars=['country','year'])\n",
    "\n",
    "# Create the 'gender' column\n",
    "tb_melt['gender'] = tb_melt.variable.str[0]\n",
    "\n",
    "# Create the 'age_group' column\n",
    "tb_melt['age_group'] = tb_melt.variable.str[1:]\n",
    "# Print the head of tb_melt\n",
    "print(tb_melt.head())\n",
    "\n",
    "#Notice the new 'gender' and 'age_group' columns you created. \n",
    "#It is vital to be able to split columns \n",
    "#as needed so you can access the data that is relevant to your question."
   ]
  },
  {
   "cell_type": "markdown",
   "metadata": {},
   "source": [
    "Another common way multiple variables are stored in columns is with a delimiter. We'll learn how to deal with such cases , using a dataset consisting of Ebola cases and death counts by state and country. \n",
    "\n",
    "The data has column names such as Cases_Guinea and Deaths_Guinea. Here, the underscore _ serves as a delimiter between the first part (cases or deaths), and the second part (country).\n",
    "\n",
    "This time, we cannot directly slice the variable by position as in the previous exercise. You now need to use Python's built-in string method called .split(). By default, this method will split a string into parts separated by a space.\n",
    "\n",
    "Next we need to extract the first element of this list and assign it to a type variable, and the second element of the list to a country variable. You can accomplish this by accessing the str attribute of the column and using the .get() method to retrieve the 0 or 1 index, depending on the part you want."
   ]
  },
  {
   "cell_type": "code",
   "execution_count": 29,
   "metadata": {},
   "outputs": [
    {
     "name": "stdout",
     "output_type": "stream",
     "text": [
      "            Date  Day  type_country  counts        str_split    type country\n",
      "0       1/5/2015  289  Cases_Guinea  2776.0  [Cases, Guinea]   Cases  Guinea\n",
      "1       1/4/2015  288  Cases_Guinea  2775.0  [Cases, Guinea]   Cases  Guinea\n",
      "2       1/3/2015  287  Cases_Guinea  2769.0  [Cases, Guinea]   Cases  Guinea\n",
      "3       1/2/2015  286  Cases_Guinea     NaN  [Cases, Guinea]   Cases  Guinea\n",
      "4     12/31/2014  284  Cases_Guinea  2730.0  [Cases, Guinea]   Cases  Guinea\n",
      "5     12/28/2014  281  Cases_Guinea  2706.0  [Cases, Guinea]   Cases  Guinea\n",
      "6     12/27/2014  280  Cases_Guinea  2695.0  [Cases, Guinea]   Cases  Guinea\n",
      "7     12/24/2014  277  Cases_Guinea  2630.0  [Cases, Guinea]   Cases  Guinea\n",
      "8     12/21/2014  273  Cases_Guinea  2597.0  [Cases, Guinea]   Cases  Guinea\n",
      "9     12/20/2014  272  Cases_Guinea  2571.0  [Cases, Guinea]   Cases  Guinea\n",
      "10    12/18/2014  271  Cases_Guinea     NaN  [Cases, Guinea]   Cases  Guinea\n",
      "11    12/14/2014  267  Cases_Guinea  2416.0  [Cases, Guinea]   Cases  Guinea\n",
      "12     12/9/2014  262  Cases_Guinea     NaN  [Cases, Guinea]   Cases  Guinea\n",
      "13     12/7/2014  260  Cases_Guinea  2292.0  [Cases, Guinea]   Cases  Guinea\n",
      "14     12/3/2014  256  Cases_Guinea     NaN  [Cases, Guinea]   Cases  Guinea\n",
      "15    11/30/2014  253  Cases_Guinea  2164.0  [Cases, Guinea]   Cases  Guinea\n",
      "16    11/28/2014  251  Cases_Guinea     NaN  [Cases, Guinea]   Cases  Guinea\n",
      "17    11/23/2014  246  Cases_Guinea  2134.0  [Cases, Guinea]   Cases  Guinea\n",
      "18    11/22/2014  245  Cases_Guinea     NaN  [Cases, Guinea]   Cases  Guinea\n",
      "19    11/18/2014  241  Cases_Guinea  2047.0  [Cases, Guinea]   Cases  Guinea\n",
      "20    11/16/2014  239  Cases_Guinea  1971.0  [Cases, Guinea]   Cases  Guinea\n",
      "21    11/15/2014  238  Cases_Guinea     NaN  [Cases, Guinea]   Cases  Guinea\n",
      "22    11/11/2014  234  Cases_Guinea  1919.0  [Cases, Guinea]   Cases  Guinea\n",
      "23    11/10/2014  233  Cases_Guinea     NaN  [Cases, Guinea]   Cases  Guinea\n",
      "24     11/9/2014  232  Cases_Guinea  1878.0  [Cases, Guinea]   Cases  Guinea\n",
      "25     11/8/2014  231  Cases_Guinea     NaN  [Cases, Guinea]   Cases  Guinea\n",
      "26     11/4/2014  227  Cases_Guinea     NaN  [Cases, Guinea]   Cases  Guinea\n",
      "27     11/3/2014  226  Cases_Guinea  1760.0  [Cases, Guinea]   Cases  Guinea\n",
      "28     11/2/2014  225  Cases_Guinea  1731.0  [Cases, Guinea]   Cases  Guinea\n",
      "29    10/31/2014  222  Cases_Guinea     NaN  [Cases, Guinea]   Cases  Guinea\n",
      "...          ...  ...           ...     ...              ...     ...     ...\n",
      "1922   5/23/2014   62   Deaths_Mali     NaN   [Deaths, Mali]  Deaths    Mali\n",
      "1923   5/12/2014   51   Deaths_Mali     NaN   [Deaths, Mali]  Deaths    Mali\n",
      "1924   5/10/2014   49   Deaths_Mali     NaN   [Deaths, Mali]  Deaths    Mali\n",
      "1925    5/7/2014   46   Deaths_Mali     NaN   [Deaths, Mali]  Deaths    Mali\n",
      "1926    5/5/2014   44   Deaths_Mali     NaN   [Deaths, Mali]  Deaths    Mali\n",
      "1927    5/3/2014   42   Deaths_Mali     NaN   [Deaths, Mali]  Deaths    Mali\n",
      "1928    5/1/2014   40   Deaths_Mali     NaN   [Deaths, Mali]  Deaths    Mali\n",
      "1929   4/26/2014   35   Deaths_Mali     NaN   [Deaths, Mali]  Deaths    Mali\n",
      "1930   4/24/2014   33   Deaths_Mali     NaN   [Deaths, Mali]  Deaths    Mali\n",
      "1931   4/23/2014   32   Deaths_Mali     NaN   [Deaths, Mali]  Deaths    Mali\n",
      "1932   4/22/2014   31   Deaths_Mali     NaN   [Deaths, Mali]  Deaths    Mali\n",
      "1933   4/21/2014   30   Deaths_Mali     NaN   [Deaths, Mali]  Deaths    Mali\n",
      "1934   4/20/2014   29   Deaths_Mali     NaN   [Deaths, Mali]  Deaths    Mali\n",
      "1935   4/17/2014   26   Deaths_Mali     NaN   [Deaths, Mali]  Deaths    Mali\n",
      "1936   4/16/2014   25   Deaths_Mali     NaN   [Deaths, Mali]  Deaths    Mali\n",
      "1937   4/15/2014   24   Deaths_Mali     NaN   [Deaths, Mali]  Deaths    Mali\n",
      "1938   4/14/2014   23   Deaths_Mali     NaN   [Deaths, Mali]  Deaths    Mali\n",
      "1939   4/11/2014   20   Deaths_Mali     NaN   [Deaths, Mali]  Deaths    Mali\n",
      "1940    4/9/2014   18   Deaths_Mali     NaN   [Deaths, Mali]  Deaths    Mali\n",
      "1941    4/7/2014   16   Deaths_Mali     NaN   [Deaths, Mali]  Deaths    Mali\n",
      "1942    4/4/2014   13   Deaths_Mali     NaN   [Deaths, Mali]  Deaths    Mali\n",
      "1943    4/1/2014   10   Deaths_Mali     NaN   [Deaths, Mali]  Deaths    Mali\n",
      "1944   3/31/2014    9   Deaths_Mali     NaN   [Deaths, Mali]  Deaths    Mali\n",
      "1945   3/29/2014    7   Deaths_Mali     NaN   [Deaths, Mali]  Deaths    Mali\n",
      "1946   3/28/2014    6   Deaths_Mali     NaN   [Deaths, Mali]  Deaths    Mali\n",
      "1947   3/27/2014    5   Deaths_Mali     NaN   [Deaths, Mali]  Deaths    Mali\n",
      "1948   3/26/2014    4   Deaths_Mali     NaN   [Deaths, Mali]  Deaths    Mali\n",
      "1949   3/25/2014    3   Deaths_Mali     NaN   [Deaths, Mali]  Deaths    Mali\n",
      "1950   3/24/2014    2   Deaths_Mali     NaN   [Deaths, Mali]  Deaths    Mali\n",
      "1951   3/22/2014    0   Deaths_Mali     NaN   [Deaths, Mali]  Deaths    Mali\n",
      "\n",
      "[1952 rows x 7 columns]\n"
     ]
    }
   ],
   "source": [
    "# Melt ebola: ebola_melt\n",
    "ebola=pd.read_csv('ebola.csv')\n",
    "ebola_melt = pd.melt(ebola, id_vars=['Date','Day'], var_name='type_country', value_name='counts')\n",
    "\n",
    "# Create the 'str_split' column\n",
    "ebola_melt['str_split'] =ebola_melt['type_country'].str.split('_')\n",
    "\n",
    "# Create the 'type' column\n",
    "ebola_melt['type'] = ebola_melt['str_split'].str.get(0)\n",
    "\n",
    "# Create the 'country' column\n",
    "ebola_melt['country'] = ebola_melt['str_split'].str.get(1)\n",
    "\n",
    "# Print the head of ebola_melt\n",
    "print(ebola_melt)\n"
   ]
  },
  {
   "cell_type": "code",
   "execution_count": null,
   "metadata": {
    "collapsed": true
   },
   "outputs": [],
   "source": []
  }
 ],
 "metadata": {
  "kernelspec": {
   "display_name": "Python 3",
   "language": "python",
   "name": "python3"
  },
  "language_info": {
   "codemirror_mode": {
    "name": "ipython",
    "version": 3
   },
   "file_extension": ".py",
   "mimetype": "text/x-python",
   "name": "python",
   "nbconvert_exporter": "python",
   "pygments_lexer": "ipython3",
   "version": "3.6.1"
  }
 },
 "nbformat": 4,
 "nbformat_minor": 2
}
